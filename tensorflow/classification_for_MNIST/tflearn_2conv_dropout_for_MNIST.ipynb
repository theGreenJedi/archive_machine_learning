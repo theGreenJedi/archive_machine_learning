{
 "cells": [
  {
   "cell_type": "markdown",
   "metadata": {},
   "source": [
    "## MNIST handwritten digit recognition using TFLearn"
   ]
  },
  {
   "cell_type": "markdown",
   "metadata": {},
   "source": [
    "[TFLearn](http://tflearn.org) is a deep learning library buit on top of Tensorflow. It is simpler to use than Tensorflow. The following code is adapted from [Github](https://github.com/tflearn/tflearn/blob/master/examples/images/convnet_mnist.py). As you can see, the code is simpler with TFLearn than with Tensorflow. You can learn more details by visiting http://tflearn.org"
   ]
  },
  {
   "cell_type": "code",
   "execution_count": 1,
   "metadata": {
    "collapsed": false
   },
   "outputs": [
    {
     "name": "stdout",
     "output_type": "stream",
     "text": [
      "hdf5 not supported (please install/reinstall h5py)\n",
      "Extracting mnist/train-images-idx3-ubyte.gz\n",
      "Extracting mnist/train-labels-idx1-ubyte.gz\n",
      "Extracting mnist/t10k-images-idx3-ubyte.gz\n",
      "Extracting mnist/t10k-labels-idx1-ubyte.gz\n"
     ]
    }
   ],
   "source": [
    "from __future__ import division, print_function, absolute_import\n",
    "\n",
    "import tflearn\n",
    "from tflearn.layers.core import input_data, dropout, fully_connected\n",
    "from tflearn.layers.conv import conv_2d, max_pool_2d\n",
    "from tflearn.layers.normalization import local_response_normalization\n",
    "from tflearn.layers.estimator import regression\n",
    "\n",
    "# Data loading and preprocessing\n",
    "import tflearn.datasets.mnist as mnist\n",
    "X, Y, testX, testY = mnist.load_data(one_hot=True)\n",
    "X = X.reshape([-1, 28, 28, 1])\n",
    "testX = testX.reshape([-1, 28, 28, 1])\n",
    "\n",
    "# First convolutional layer\n",
    "network = input_data(shape=[None, 28, 28, 1], name='input')\n",
    "network = conv_2d(network, 32, 5, activation='relu')\n",
    "network = max_pool_2d(network, 2)\n",
    "\n",
    "# Second convolutional layer\n",
    "network = conv_2d(network, 64, 5, activation='relu')\n",
    "network = max_pool_2d(network, 2)\n",
    "\n",
    "# Fully-connected layer\n",
    "network = fully_connected(network, 1024, activation='relu')\n",
    "network = dropout(network, 0.5)\n",
    "\n",
    "# Output layer\n",
    "network = fully_connected(network, 10, activation='softmax')\n",
    "network = regression(network, optimizer='adam', learning_rate=0.001,\n",
    "                     loss='categorical_crossentropy', name='target')"
   ]
  },
  {
   "cell_type": "code",
   "execution_count": 2,
   "metadata": {
    "collapsed": false,
    "scrolled": true
   },
   "outputs": [
    {
     "name": "stdout",
     "output_type": "stream",
     "text": [
      "Training Step: 17200  | total loss: \u001b[1m\u001b[32m0.00365\u001b[0m\u001b[0m\n",
      "| Adam | epoch: 020 | loss: 0.00365 - acc: 0.9989 | val_loss: 0.04363 - val_acc: 0.9929 -- iter: 55000/55000\n",
      "Training Step: 17200  | total loss: \u001b[1m\u001b[32m0.00365\u001b[0m\u001b[0m\n",
      "| Adam | epoch: 020 | loss: 0.00365 - acc: 0.9989 | val_loss: 0.04363 - val_acc: 0.9929 -- iter: 55000/55000\n",
      "--\n"
     ]
    }
   ],
   "source": [
    "# Train and Evaluate the Model\n",
    "model = tflearn.DNN(network, tensorboard_verbose=0)\n",
    "model.fit({'input': X}, {'target': Y}, n_epoch=20,\n",
    "           validation_set=({'input': testX}, {'target': testY}),\n",
    "           snapshot_step=100, show_metric=True, run_id='convnet_mnist')"
   ]
  },
  {
   "cell_type": "code",
   "execution_count": null,
   "metadata": {
    "collapsed": true
   },
   "outputs": [],
   "source": []
  }
 ],
 "metadata": {
  "kernelspec": {
   "display_name": "Python 2",
   "language": "python",
   "name": "python2"
  },
  "language_info": {
   "codemirror_mode": {
    "name": "ipython",
    "version": 2
   },
   "file_extension": ".py",
   "mimetype": "text/x-python",
   "name": "python",
   "nbconvert_exporter": "python",
   "pygments_lexer": "ipython2",
   "version": "2.7.6"
  }
 },
 "nbformat": 4,
 "nbformat_minor": 0
}

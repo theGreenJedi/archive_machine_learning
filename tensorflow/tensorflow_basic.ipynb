{
 "cells": [
  {
   "cell_type": "code",
   "execution_count": 1,
   "metadata": {
    "collapsed": true
   },
   "outputs": [],
   "source": [
    "import tensorflow as tf\n",
    "import numpy as np"
   ]
  },
  {
   "cell_type": "markdown",
   "metadata": {},
   "source": [
    "## General flow of tensorflow framework"
   ]
  },
  {
   "cell_type": "code",
   "execution_count": 2,
   "metadata": {
    "collapsed": false,
    "scrolled": false
   },
   "outputs": [
    {
     "name": "stdout",
     "output_type": "stream",
     "text": [
      "const_tf_str: Tensor(\"Const:0\", shape=(), dtype=string) \n",
      "   Type: <class 'tensorflow.python.framework.ops.Tensor'>\n",
      "-------------------------------------------------------------------------------\n",
      "const_tf_str_sess: Hello Tensorflow \n",
      "   Type: <type 'str'>\n"
     ]
    }
   ],
   "source": [
    "sess = tf.Session()\n",
    "\n",
    "const_tf_str = tf.constant(\"Hello Tensorflow\")\n",
    "print(\"const_tf_str: {} \\n   Type: {}\".format(const_tf_str, type(const_tf_str)))\n",
    "print \"-------------------------------------------------------------------------------\"\n",
    "const_tf_str_sess = sess.run(const_tf_str)\n",
    "print(\"const_tf_str_sess: {} \\n   Type: {}\".format(const_tf_str_sess, type(const_tf_str_sess)))"
   ]
  },
  {
   "cell_type": "markdown",
   "metadata": {},
   "source": [
    "In general, after constructing tf.Session, the operations can be executed and a computational graph is made via tf.Session. When you look at the constant before constructing tf.Sessionm, it's defined as not string but tensor object."
   ]
  },
  {
   "cell_type": "markdown",
   "metadata": {},
   "source": [
    "## Basic type of variables"
   ]
  },
  {
   "cell_type": "markdown",
   "metadata": {},
   "source": [
    "### 1. Constant "
   ]
  },
  {
   "cell_type": "code",
   "execution_count": 3,
   "metadata": {
    "collapsed": false
   },
   "outputs": [
    {
     "name": "stdout",
     "output_type": "stream",
     "text": [
      "a: Tensor(\"Const_1:0\", shape=(), dtype=float32) \n",
      "   Type: <class 'tensorflow.python.framework.ops.Tensor'>\n",
      "b: Tensor(\"Const_2:0\", shape=(), dtype=float32) \n",
      "   Type: <class 'tensorflow.python.framework.ops.Tensor'>\n",
      "-------------------------------------------------------------------------------\n",
      "a_sess: 2.5 \n",
      "   Type: <type 'numpy.float32'>\n"
     ]
    }
   ],
   "source": [
    "a = tf.constant(10.5)\n",
    "b = tf.constant(2.5)\n",
    "print(\"a: {} \\n   Type: {}\".format(a, type(a))) \n",
    "print(\"b: {} \\n   Type: {}\".format(b, type(b))) \n",
    "print \"-------------------------------------------------------------------------------\"\n",
    "a_sess = sess.run(a)\n",
    "b_sess = sess.run(b)\n",
    "print(\"a_sess: {} \\n   Type: {}\".format(b_sess, type(b_sess)))"
   ]
  },
  {
   "cell_type": "markdown",
   "metadata": {},
   "source": [
    "### 2. Operators"
   ]
  },
  {
   "cell_type": "code",
   "execution_count": 4,
   "metadata": {
    "collapsed": false
   },
   "outputs": [
    {
     "name": "stdout",
     "output_type": "stream",
     "text": [
      "add: Tensor(\"Add:0\", shape=(), dtype=float32)  \n",
      "     Type: <class 'tensorflow.python.framework.ops.Tensor'>\n",
      "mul: Tensor(\"Mul:0\", shape=(), dtype=float32)  \n",
      "     Type: <class 'tensorflow.python.framework.ops.Tensor'>\n",
      "-------------------------------------------------------------------------------\n",
      "add_sess: 13.0  \n",
      "     Type: <type 'numpy.float32'>\n",
      "mul_sess: 26.25  \n",
      "     Type: <type 'numpy.float32'>\n"
     ]
    }
   ],
   "source": [
    "add = tf.add(a, b)\n",
    "mul = tf.mul(a, b)\n",
    "print(\"add: {}  \\n     Type: {}\".format(add, type(add)))\n",
    "print(\"mul: {}  \\n     Type: {}\".format(mul, type(mul)))\n",
    "print \"-------------------------------------------------------------------------------\"\n",
    "add_sess = sess.run(add)\n",
    "mul_sess = sess.run(mul)\n",
    "print(\"add_sess: {}  \\n     Type: {}\".format(add_sess, type(add_sess)))\n",
    "print(\"mul_sess: {}  \\n     Type: {}\".format(mul_sess, type(mul_sess)))"
   ]
  },
  {
   "cell_type": "markdown",
   "metadata": {},
   "source": [
    "### 3. Placeholder"
   ]
  },
  {
   "cell_type": "code",
   "execution_count": 5,
   "metadata": {
    "collapsed": false
   },
   "outputs": [
    {
     "name": "stdout",
     "output_type": "stream",
     "text": [
      "Input: Tensor(\"Placeholder:0\", shape=(?, 1), dtype=float32) \n",
      "    Type: <class 'tensorflow.python.framework.ops.Tensor'>\n",
      "-------------------------------------------------------------------------------\n"
     ]
    }
   ],
   "source": [
    "Input  = tf.placeholder(tf.float32, [None, 1])\n",
    "print (\"Input: {} \\n    Type: {}\".format(Input, type(Input)))\n",
    "print \"-------------------------------------------------------------------------------\""
   ]
  },
  {
   "cell_type": "markdown",
   "metadata": {},
   "source": [
    "### 4. Variable"
   ]
  },
  {
   "cell_type": "code",
   "execution_count": 6,
   "metadata": {
    "collapsed": false
   },
   "outputs": [
    {
     "name": "stdout",
     "output_type": "stream",
     "text": [
      "Weight: <tensorflow.python.ops.variables.Variable object at 0x7f09e608ac90> \n",
      "    Type: <class 'tensorflow.python.ops.variables.Variable'>\n",
      "Bias: <tensorflow.python.ops.variables.Variable object at 0x7f09cc603e90> \n",
      "    Type: <class 'tensorflow.python.ops.variables.Variable'>\n",
      "-------------------------------------------------------------------------------\n",
      "Weight value: 3.000000 \n",
      "    Type: <class 'tensorflow.python.ops.variables.Variable'>\n",
      "Bias value: 1.000000 \n",
      "    Type: <class 'tensorflow.python.ops.variables.Variable'>\n"
     ]
    }
   ],
   "source": [
    "Weight = tf.Variable(tf.constant(3.0))\n",
    "Bias   = tf.Variable(tf.constant(1.0))\n",
    "print (\"Weight: {} \\n    Type: {}\".format(Weight, type(Weight)))\n",
    "print (\"Bias: {} \\n    Type: {}\".format(Bias, type(Bias)))\n",
    "print \"-------------------------------------------------------------------------------\"\n",
    "init = tf.initialize_all_variables()\n",
    "sess.run(init)\n",
    "print (\"Weight value: {:f} \\n    Type: {}\".format(sess.run(Weight), type(Weight)))\n",
    "print (\"Bias value: {:f} \\n    Type: {}\".format(sess.run(Bias), type(Bias)))"
   ]
  },
  {
   "cell_type": "markdown",
   "metadata": {
    "collapsed": false
   },
   "source": [
    "### Contant + Operator + Placeholder + Variable"
   ]
  },
  {
   "cell_type": "code",
   "execution_count": 7,
   "metadata": {
    "collapsed": false
   },
   "outputs": [
    {
     "name": "stdout",
     "output_type": "stream",
     "text": [
      "val: [[ 1.        ]\n",
      " [ 1.33333337]\n",
      " [ 1.66666675]\n",
      " [ 2.        ]\n",
      " [ 2.33333349]\n",
      " [ 2.66666675]\n",
      " [ 3.        ]\n",
      " [ 3.33333349]\n",
      " [ 3.66666675]\n",
      " [ 4.        ]] \n",
      "  Type: <type 'numpy.ndarray'>\n"
     ]
    }
   ],
   "source": [
    "oper = tf.mul(Input, Weight) + Bias\n",
    "X = np.linspace(0, 1, 10).reshape(-1, 1)\n",
    "val  = sess.run(oper, feed_dict={Input:X})\n",
    "print (\"val: {} \\n  Type: {}\".format(val, type(val)))"
   ]
  },
  {
   "cell_type": "code",
   "execution_count": null,
   "metadata": {
    "collapsed": true
   },
   "outputs": [],
   "source": []
  }
 ],
 "metadata": {
  "kernelspec": {
   "display_name": "Python 2",
   "language": "python",
   "name": "python2"
  },
  "language_info": {
   "codemirror_mode": {
    "name": "ipython",
    "version": 2
   },
   "file_extension": ".py",
   "mimetype": "text/x-python",
   "name": "python",
   "nbconvert_exporter": "python",
   "pygments_lexer": "ipython2",
   "version": "2.7.6"
  }
 },
 "nbformat": 4,
 "nbformat_minor": 0
}

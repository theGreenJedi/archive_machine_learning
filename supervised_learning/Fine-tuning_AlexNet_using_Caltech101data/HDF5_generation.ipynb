{
 "cells": [
  {
   "cell_type": "code",
   "execution_count": 1,
   "metadata": {
    "collapsed": true
   },
   "outputs": [],
   "source": [
    "from Generate_HDF5 import build_hdf5_image_dataset_simp\n",
    "from divide_train_val import divide_train_val"
   ]
  },
  {
   "cell_type": "code",
   "execution_count": 2,
   "metadata": {
    "collapsed": false
   },
   "outputs": [
    {
     "name": "stdout",
     "output_type": "stream",
     "text": [
      "Start reading target path file...\n",
      "Finished reading target path file!\n",
      "Number of images is 810\n",
      "Number of classes is 10\n",
      "2016-12-06 08:13:24.549153\t0\n",
      "2016-12-06 08:13:25.534905\t100\n",
      "2016-12-06 08:13:26.464909\t200\n",
      "2016-12-06 08:13:27.249460\t300\n",
      "2016-12-06 08:13:28.042492\t400\n",
      "2016-12-06 08:13:29.059408\t500\n",
      "2016-12-06 08:13:29.955847\t600\n",
      "2016-12-06 08:13:30.713359\t700\n",
      "2016-12-06 08:13:31.653297\t800\n",
      "Start reading target path file...\n",
      "Finished reading target path file!\n",
      "Number of images is 225\n",
      "Number of classes is 10\n",
      "2016-12-06 08:13:33.724802\t0\n",
      "2016-12-06 08:13:34.610482\t100\n",
      "2016-12-06 08:13:35.693786\t200\n"
     ]
    }
   ],
   "source": [
    "# Divide images into train and validation sets\n",
    "divide_train_val()\n",
    "\n",
    "# Training set generation\n",
    "build_hdf5_image_dataset_simp(\n",
    "    target_path='./project2_train_label.txt',\n",
    "    output_path='./Caltech101_ten_train.h5')\n",
    "\n",
    "# Test set generation\n",
    "build_hdf5_image_dataset_simp(\n",
    "    target_path='./project2_val_label.txt',\n",
    "    output_path='./Caltech101_ten_val.h5')"
   ]
  },
  {
   "cell_type": "code",
   "execution_count": null,
   "metadata": {
    "collapsed": true
   },
   "outputs": [],
   "source": []
  }
 ],
 "metadata": {
  "kernelspec": {
   "display_name": "Python 2",
   "language": "python",
   "name": "python2"
  },
  "language_info": {
   "codemirror_mode": {
    "name": "ipython",
    "version": 2
   },
   "file_extension": ".py",
   "mimetype": "text/x-python",
   "name": "python",
   "nbconvert_exporter": "python",
   "pygments_lexer": "ipython2",
   "version": "2.7.6"
  }
 },
 "nbformat": 4,
 "nbformat_minor": 0
}

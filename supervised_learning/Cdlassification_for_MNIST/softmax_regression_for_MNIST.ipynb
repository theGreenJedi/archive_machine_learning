{
 "cells": [
  {
   "cell_type": "code",
   "execution_count": 1,
   "metadata": {
    "collapsed": true
   },
   "outputs": [],
   "source": [
    "# EE488C Special Topics in EE <Deep Learning and AlphaGo>\n",
    "# Fall 2016, School of EE, KAIST\n",
    "\n",
    "import tensorflow as tf\n",
    "from tensorflow.examples.tutorials.mnist import input_data"
   ]
  },
  {
   "cell_type": "code",
   "execution_count": 16,
   "metadata": {
    "collapsed": false
   },
   "outputs": [
    {
     "name": "stdout",
     "output_type": "stream",
     "text": [
      "Extracting ./MNIST_data/train-images-idx3-ubyte.gz\n",
      "Extracting ./MNIST_data/train-labels-idx1-ubyte.gz\n",
      "Extracting ./MNIST_data/t10k-images-idx3-ubyte.gz\n",
      "Extracting ./MNIST_data/t10k-labels-idx1-ubyte.gz\n"
     ]
    },
    {
     "name": "stderr",
     "output_type": "stream",
     "text": [
      "Exception AssertionError: AssertionError() in <bound method InteractiveSession.__del__ of <tensorflow.python.client.session.InteractiveSession object at 0x7fccd873e6d0>> ignored\n"
     ]
    }
   ],
   "source": [
    "mnist = input_data.read_data_sets('./MNIST_data', one_hot=True)\n",
    "sess = tf.InteractiveSession()\n",
    "\n",
    "# Input layer\n",
    "x = tf.placeholder(tf.float32, shape=[None, 784])\n",
    "y_ = tf.placeholder(tf.float32, shape=[None, 10])\n",
    "\n",
    "# Output layer\n",
    "W = tf.Variable(tf.truncated_normal([784, 10], stddev=0.01))\n",
    "b = tf.Variable(tf.truncated_normal([10], stddev=0.01))\n",
    "y = tf.nn.softmax(tf.matmul(x, W) + b) # sigmoid: nonlinear function\n",
    "\n",
    "# Train and Evaluate the Model\n",
    "cross_entropy = - tf.reduce_sum(y_*tf.log(y))\n",
    "train_step = tf.train.GradientDescentOptimizer(5e-3).minimize(cross_entropy) # alpha = 0.01 \n",
    "correct_prediction = tf.equal(tf.argmax(y, 1), tf.argmax(y_, 1))\n",
    "accuracy = tf.reduce_mean(tf.cast(correct_prediction, tf.float32))"
   ]
  },
  {
   "cell_type": "code",
   "execution_count": 18,
   "metadata": {
    "collapsed": false
   },
   "outputs": [
    {
     "name": "stdout",
     "output_type": "stream",
     "text": [
      "=================================\n",
      "|Epoch\tBatch\t|Train\t|Val\t|\n",
      "|===============================|\n",
      "|1\t|50\t|0.9200\t|0.8770\t|\n",
      "|1\t|100\t|0.9100\t|0.8900\t|\n",
      "|1\t|150\t|0.9400\t|0.9072\t|\n",
      "|1\t|200\t|0.9200\t|0.9038\t|\n",
      "|1\t|250\t|0.8900\t|0.9106\t|\n",
      "|1\t|300\t|0.9500\t|0.9114\t|\n",
      "|1\t|350\t|0.9300\t|0.9076\t|\n",
      "|1\t|400\t|0.9300\t|0.9136\t|\n",
      "|1\t|450\t|0.9300\t|0.9140\t|\n",
      "|1\t|500\t|0.9600\t|0.9168\t|\n",
      "|1\t|550\t|0.9300\t|0.9200\t|\n",
      "|2\t|50\t|0.9100\t|0.9154\t|\n",
      "|2\t|100\t|0.9200\t|0.9152\t|\n",
      "|2\t|150\t|0.9500\t|0.9200\t|\n",
      "|2\t|200\t|0.9500\t|0.9194\t|\n",
      "|2\t|250\t|0.9100\t|0.9220\t|\n",
      "|2\t|300\t|0.9300\t|0.9196\t|\n",
      "|2\t|350\t|0.9500\t|0.9248\t|\n",
      "|2\t|400\t|0.9300\t|0.9198\t|\n",
      "|2\t|450\t|0.9200\t|0.9188\t|\n",
      "|2\t|500\t|0.9800\t|0.9202\t|\n",
      "|2\t|550\t|0.9400\t|0.9194\t|\n",
      "|3\t|50\t|0.9500\t|0.9234\t|\n",
      "|3\t|100\t|0.9400\t|0.9204\t|\n",
      "|3\t|150\t|0.9500\t|0.9192\t|\n",
      "|3\t|200\t|0.9200\t|0.9208\t|\n",
      "|3\t|250\t|0.9200\t|0.9206\t|\n",
      "|3\t|300\t|0.9100\t|0.9214\t|\n",
      "|3\t|350\t|0.9500\t|0.9256\t|\n",
      "|3\t|400\t|0.9300\t|0.9242\t|\n",
      "|3\t|450\t|0.9500\t|0.9250\t|\n",
      "|3\t|500\t|0.9100\t|0.9274\t|\n",
      "|3\t|550\t|0.9100\t|0.9186\t|\n",
      "|4\t|50\t|0.9700\t|0.9206\t|\n",
      "|4\t|100\t|0.9600\t|0.9252\t|\n",
      "|4\t|150\t|0.9200\t|0.9242\t|\n",
      "|4\t|200\t|0.9800\t|0.9250\t|\n",
      "|4\t|250\t|0.9500\t|0.9220\t|\n",
      "|4\t|300\t|0.8600\t|0.9204\t|\n",
      "|4\t|350\t|0.8900\t|0.9202\t|\n",
      "|4\t|400\t|0.9200\t|0.9178\t|\n",
      "|4\t|450\t|0.9400\t|0.9254\t|\n",
      "|4\t|500\t|0.9700\t|0.9256\t|\n",
      "|4\t|550\t|0.8900\t|0.9226\t|\n",
      "|5\t|50\t|0.9300\t|0.9256\t|\n",
      "|5\t|100\t|0.9500\t|0.9248\t|\n",
      "|5\t|150\t|0.9600\t|0.9256\t|\n",
      "|5\t|200\t|0.9500\t|0.9242\t|\n",
      "|5\t|250\t|0.9500\t|0.9246\t|\n",
      "|5\t|300\t|0.8800\t|0.9282\t|\n",
      "|5\t|350\t|0.9100\t|0.9206\t|\n",
      "|5\t|400\t|0.9600\t|0.9268\t|\n",
      "|5\t|450\t|0.9600\t|0.9250\t|\n",
      "|5\t|500\t|0.9400\t|0.9270\t|\n",
      "|5\t|550\t|0.9100\t|0.9286\t|\n",
      "|===============================|\n",
      "test accuracy=0.9232\n"
     ]
    }
   ],
   "source": [
    "sess.run(tf.initialize_all_variables())\n",
    "print(\"=================================\")\n",
    "print(\"|Epoch\\tBatch\\t|Train\\t|Val\\t|\")\n",
    "print(\"|===============================|\")\n",
    "for j in range(5): # the number of epoch\n",
    "    for i in range(550): # 550*100 = 55000 training examples\n",
    "        batch = mnist.train.next_batch(100) # for mini-batch\n",
    "        train_step.run(feed_dict={x: batch[0], y_: batch[1]})\n",
    "        if i%50 == 49:\n",
    "            train_accuracy = accuracy.eval(feed_dict={x:batch[0], y_: batch[1]})\n",
    "            val_accuracy = accuracy.eval(feed_dict=\\\n",
    "                {x: mnist.validation.images, y_:mnist.validation.labels})\n",
    "            print(\"|%d\\t|%d\\t|%.4f\\t|%.4f\\t|\"%(j+1, i+1, train_accuracy, val_accuracy))\n",
    "print(\"|===============================|\")\n",
    "test_accuracy = accuracy.eval(feed_dict=\\\n",
    "    {x: mnist.test.images, y_:mnist.test.labels})\n",
    "print(\"test accuracy=%.4f\"%(test_accuracy))"
   ]
  },
  {
   "cell_type": "code",
   "execution_count": null,
   "metadata": {
    "collapsed": true
   },
   "outputs": [],
   "source": []
  },
  {
   "cell_type": "code",
   "execution_count": null,
   "metadata": {
    "collapsed": true
   },
   "outputs": [],
   "source": []
  },
  {
   "cell_type": "code",
   "execution_count": null,
   "metadata": {
    "collapsed": true
   },
   "outputs": [],
   "source": []
  },
  {
   "cell_type": "code",
   "execution_count": null,
   "metadata": {
    "collapsed": true
   },
   "outputs": [],
   "source": []
  }
 ],
 "metadata": {
  "kernelspec": {
   "display_name": "Python 2",
   "language": "python",
   "name": "python2"
  },
  "language_info": {
   "codemirror_mode": {
    "name": "ipython",
    "version": 2
   },
   "file_extension": ".py",
   "mimetype": "text/x-python",
   "name": "python",
   "nbconvert_exporter": "python",
   "pygments_lexer": "ipython2",
   "version": "2.7.6"
  }
 },
 "nbformat": 4,
 "nbformat_minor": 0
}

{
 "cells": [
  {
   "cell_type": "code",
   "execution_count": 1,
   "metadata": {
    "collapsed": false
   },
   "outputs": [
    {
     "name": "stderr",
     "output_type": "stream",
     "text": [
      "Using gpu device 0: GeForce GTX TITAN X (CNMeM is disabled)\n"
     ]
    }
   ],
   "source": [
    "#http://cs231n.stanford.edu/slides/winter1516_lecture12.pdf\n",
    "\n",
    "import theano\n",
    "import theano.tensor as T\n",
    "\n",
    "num_data = 64\n",
    "num_dim = 1000\n",
    "num_hid1 = 100\n",
    "num_output = 10\n",
    "\n",
    "x = T.matrix('x')\n",
    "y = T.vector('y', dtype = 'int64')\n",
    "w1 = T.matrix('w1')\n",
    "w2 = T.matrix('w2')"
   ]
  },
  {
   "cell_type": "code",
   "execution_count": 2,
   "metadata": {
    "collapsed": true
   },
   "outputs": [],
   "source": [
    "hid1 = x.dot(w1)\n",
    "hid1_relu = T.nnet.relu(hid1)\n",
    "output = hid1_relu.dot(w2)\n",
    "\n",
    "output_prob = T.nnet.softmax(output)\n",
    "loss = T.nnet.categorical_crossentropy(output_prob, y).mean()\n"
   ]
  },
  {
   "cell_type": "code",
   "execution_count": 11,
   "metadata": {
    "collapsed": true
   },
   "outputs": [],
   "source": [
    "dw1, dw2 = T.grad(loss, [w1, w2])"
   ]
  },
  {
   "cell_type": "code",
   "execution_count": 12,
   "metadata": {
    "collapsed": false
   },
   "outputs": [],
   "source": [
    "f = theano.function(\n",
    "    inputs = [x, y, w1, w2],\n",
    "    outputs = [loss, output, dw1, dw2]\n",
    ")"
   ]
  },
  {
   "cell_type": "code",
   "execution_count": 13,
   "metadata": {
    "collapsed": false
   },
   "outputs": [],
   "source": [
    "import numpy as np\n",
    "\n",
    "xx = np.random.randn(num_data, num_dim).astype('float32')\n",
    "yy = np.random.randint(num_output, size=num_data)\n",
    "ww1 = 1e-3 * np.random.randn(num_dim, num_hid1).astype('float32')\n",
    "ww2 = 1e-3 * np.random.randn(num_hid1, num_output).astype('float32')"
   ]
  },
  {
   "cell_type": "code",
   "execution_count": 15,
   "metadata": {
    "collapsed": false
   },
   "outputs": [
    {
     "name": "stdout",
     "output_type": "stream",
     "text": [
      "2.284917593\n",
      "2.28074860573\n",
      "2.2755279541\n",
      "2.26898193359\n",
      "2.26076078415\n",
      "2.25044536591\n",
      "2.23754167557\n",
      "2.22135019302\n",
      "2.20115947723\n",
      "2.17598557472\n",
      "2.14468932152\n",
      "2.10625219345\n",
      "2.05970168114\n",
      "2.0042757988\n",
      "1.94025707245\n",
      "1.86889958382\n",
      "1.79337239265\n",
      "1.71750867367\n",
      "1.64509725571\n",
      "1.57823824883\n"
     ]
    }
   ],
   "source": [
    "learning_rate = 1e-1\n",
    "num_epoch = 20\n",
    "\n",
    "for t in xrange(num_epoch):\n",
    "    loss_val, output_val, dw1_val, dw2_val = f(xx, yy, ww1, ww2)\n",
    "    print loss_val\n",
    "    ww1 -= learning_rate * dw1_val\n",
    "    ww2 -= learning_rate * dw2_val"
   ]
  },
  {
   "cell_type": "code",
   "execution_count": null,
   "metadata": {
    "collapsed": true
   },
   "outputs": [],
   "source": []
  }
 ],
 "metadata": {
  "anaconda-cloud": {},
  "kernelspec": {
   "display_name": "Python [conda env:py27]",
   "language": "python",
   "name": "conda-env-py27-py"
  },
  "language_info": {
   "codemirror_mode": {
    "name": "ipython",
    "version": 2
   },
   "file_extension": ".py",
   "mimetype": "text/x-python",
   "name": "python",
   "nbconvert_exporter": "python",
   "pygments_lexer": "ipython2",
   "version": "2.7.13"
  }
 },
 "nbformat": 4,
 "nbformat_minor": 0
}

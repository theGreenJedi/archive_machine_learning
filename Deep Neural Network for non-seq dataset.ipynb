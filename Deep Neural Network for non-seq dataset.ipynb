{
 "cells": [
  {
   "cell_type": "markdown",
   "metadata": {},
   "source": [
    "# Deep Neural Network (2 hidden layer)"
   ]
  },
  {
   "cell_type": "code",
   "execution_count": 1,
   "metadata": {
    "collapsed": false
   },
   "outputs": [],
   "source": [
    "import csv\n",
    "import os\n",
    "import tensorflow as tf\n",
    "from tensorflow.examples.tutorials.mnist import input_data\n",
    "import numpy as np\n",
    "import matplotlib.pyplot as plt\n",
    "%matplotlib inline\n",
    "\n",
    "from sklearn.model_selection import train_test_split\n",
    "from sklearn.utils import shuffle"
   ]
  },
  {
   "cell_type": "markdown",
   "metadata": {},
   "source": [
    "### Load labeled dataset"
   ]
  },
  {
   "cell_type": "code",
   "execution_count": 2,
   "metadata": {
    "collapsed": false
   },
   "outputs": [],
   "source": [
    "global labeled_dataset\n",
    "labeled_dataset = []\n",
    "\n",
    "# reference: http://pythoncentral.io/how-to-traverse-a-directory-tree-in-python-guide-to-os-walk/\n",
    "dataset_path = './labeled_dataset'\n",
    "\n",
    "# 이중 폴더 속에 있는 파일들을 Load하기 위한 이중 for문\n",
    "for dirName, subdirList, fileList in os.walk(dataset_path):\n",
    "    #print('Found directory: %s' % dirName)\n",
    "    for fname in fileList:\n",
    "        \n",
    "        # 파일의 절대 경로를 만들어 주기 위한 코드\n",
    "        file_path = dirName+'/'+fname # ex: ./test_dataset/Telegraph/Google-2010-Telegraph-20160706164841234.csv\n",
    "        temp_str = dirName.split('/') # publisher 단어를 뽑기 위한 과정\n",
    "        publisher = temp_str[-1] # 현재 publisher 폴더이름 추출\n",
    "        \n",
    "        with open(file_path, 'rb') as f:\n",
    "            reader = csv.reader(f)\n",
    "            labeled_dataset += list(reader)\n",
    "\n",
    "#labeled_dataset = np.array(labeled_dataset)"
   ]
  },
  {
   "cell_type": "markdown",
   "metadata": {},
   "source": [
    "### Split training and testing dataset (for non-seq data)"
   ]
  },
  {
   "cell_type": "code",
   "execution_count": 3,
   "metadata": {
    "collapsed": false
   },
   "outputs": [],
   "source": [
    "##### Class Imbalance Problem\n",
    "# class가 구성이 한쪽으로 치우쳐져 있기 때문에, class별로 나눠서 train/test 균등분리가 필요하다. \n",
    "# 또는 majority class를 undersampling, minority class를 oversampling하는 방법도 있다.\n",
    "\n",
    "### Filter dataset based on class\n",
    "class_1_dataset = [row for row in labeled_dataset if '1' == row[0]]\n",
    "class_2_dataset = [row for row in labeled_dataset if '2' == row[0]]\n",
    "class_3_dataset = [row for row in labeled_dataset if '3' == row[0]]\n",
    "class_4_dataset = [row for row in labeled_dataset if '4' == row[0]]\n",
    "\n",
    "### Split training/test dataset based on class\n",
    "class_1_train, class_1_test = train_test_split(class_1_dataset, train_size = 0.8)\n",
    "class_2_train, class_2_test = train_test_split(class_2_dataset, train_size = 0.8)\n",
    "class_3_train, class_3_test = train_test_split(class_3_dataset, train_size = 0.8)\n",
    "class_4_train, class_4_test = train_test_split(class_4_dataset, train_size = 0.8)\n",
    "\n",
    "### Join dataset\n",
    "train_dataset = class_1_train+class_2_train+class_3_train+class_4_train\n",
    "test_dataset = class_1_test+class_2_test+class_3_test+class_4_test\n",
    "\n",
    "### Shuffle dataset\n",
    "shuf_train_dataset = shuffle(train_dataset)\n",
    "shuf_test_dataset = shuffle(test_dataset)\n",
    "\n",
    "### Split X and Y\n",
    "X_train, X_test = [], []\n",
    "Y_train, Y_test = [], []\n",
    "temp1, temp2 = [], []\n",
    "\n",
    "for idx, row in enumerate(shuf_train_dataset):\n",
    "    for j in range(1, 10): # csv file에서 feature가 있는 index (1~9)\n",
    "        temp1.append(shuf_train_dataset[idx][j])\n",
    "    X_train.append(temp1)\n",
    "    temp1 = [] # temp 0으로 초기화\n",
    "\n",
    "for idx, row in enumerate(shuf_test_dataset):\n",
    "    for j in range(1, 10):\n",
    "        temp2.append(shuf_test_dataset[idx][j])\n",
    "    X_test.append(temp2)\n",
    "    temp2 = [] \n",
    "\n",
    "for idx, row in enumerate(shuf_train_dataset): Y_train.append(shuf_train_dataset[idx][0])\n",
    "for idx, row in enumerate(shuf_test_dataset): Y_test.append(shuf_test_dataset[idx][0])\n",
    "    \n",
    "### Convert to numpy array with data-type\n",
    "X_train = np.array(X_train, dtype='float32')\n",
    "X_test = np.array(X_test, dtype='float32')\n",
    "Y_train = np.array(Y_train, dtype='int64')\n",
    "Y_test = np.array(Y_test, dtype='int64')"
   ]
  },
  {
   "cell_type": "code",
   "execution_count": 4,
   "metadata": {
    "collapsed": true
   },
   "outputs": [],
   "source": [
    "#mnist = input_data.read_data_sets(\"MNIST_data/\", one_hot=False)\n",
    "#X_trn, Y_trn, X_test, Y_test = mnist.train.images, mnist.train.labels, mnist.test.images, mnist.test.labels"
   ]
  },
  {
   "cell_type": "markdown",
   "metadata": {},
   "source": [
    "### Prepare for Model"
   ]
  },
  {
   "cell_type": "code",
   "execution_count": 5,
   "metadata": {
    "collapsed": true
   },
   "outputs": [],
   "source": [
    "# Define hyper-parameters\n",
    "input_dim = 9\n",
    "hidden_dim = 2\n",
    "output_dim = 4\n",
    "\n",
    "alpha = 0.05 # learning rate\n",
    "batch_size = 128\n",
    "epoch_size = 30\n",
    "\n",
    "\n",
    "# function for variables\n",
    "def init_weights(shape):\n",
    "    return tf.Variable(tf.truncated_normal(shape, stddev=0.01))\n",
    "\n",
    "# function for model construction\n",
    "def model(X, w_h, w_h2, w_o):\n",
    "    h = tf.nn.relu(tf.matmul(X, w_h))\n",
    "    h2 = tf.nn.relu(tf.matmul(h, w_h2))\n",
    "    return tf.matmul(h2, w_o)\n",
    "\n",
    "# make placeholder for inputs and labels\n",
    "X = tf.placeholder(tf.float32, [None, input_dim])\n",
    "Y = tf.placeholder(tf.int64, [None])\n",
    "\n",
    "# weight variable & model\n",
    "w_h = init_weights([input_dim, hidden_dim])\n",
    "w_h2 = init_weights([hidden_dim, hidden_dim])\n",
    "w_o = init_weights([hidden_dim, output_dim])\n",
    "py_x = model(X, w_h, w_h2, w_o)\n",
    "\n",
    "# loss function\n",
    "loss = tf.reduce_mean(tf.nn.sparse_softmax_cross_entropy_with_logits(py_x, Y))\n",
    "\n",
    "# Optimization function\n",
    "train_op = tf.train.AdagradOptimizer(learning_rate=alpha).minimize(loss)\n",
    "\n",
    "# Calculate accuracy\n",
    "correct = tf.nn.in_top_k(py_x, Y, 1)\n",
    "accuracy = tf.reduce_mean(tf.cast(correct, tf.float32))"
   ]
  },
  {
   "cell_type": "markdown",
   "metadata": {},
   "source": [
    "### Session initialize and training"
   ]
  },
  {
   "cell_type": "code",
   "execution_count": 6,
   "metadata": {
    "collapsed": false
   },
   "outputs": [
    {
     "name": "stdout",
     "output_type": "stream",
     "text": [
      "epoch: 0 test accuracy 0.9695\n",
      "epoch: 1 test accuracy 0.9739\n",
      "epoch: 2 test accuracy 0.9739\n",
      "epoch: 3 test accuracy 0.9760\n",
      "epoch: 4 test accuracy 0.9782\n",
      "epoch: 5 test accuracy 0.9717\n",
      "epoch: 6 test accuracy 0.9368\n",
      "epoch: 7 test accuracy 0.9172\n",
      "epoch: 8 test accuracy 0.8889\n",
      "epoch: 9 test accuracy 0.1176\n",
      "epoch: 10 test accuracy 0.1198\n",
      "epoch: 11 test accuracy 0.1176\n",
      "epoch: 12 test accuracy 0.1068\n",
      "epoch: 13 test accuracy 0.1068\n",
      "epoch: 14 test accuracy 0.0980\n",
      "epoch: 15 test accuracy 0.0980\n",
      "epoch: 16 test accuracy 0.0980\n",
      "epoch: 17 test accuracy 0.0959\n",
      "epoch: 18 test accuracy 0.0980\n",
      "epoch: 19 test accuracy 0.4314\n",
      "epoch: 20 test accuracy 0.4815\n",
      "epoch: 21 test accuracy 0.4902\n",
      "epoch: 22 test accuracy 0.4967\n",
      "epoch: 23 test accuracy 0.4989\n",
      "epoch: 24 test accuracy 0.4989\n",
      "epoch: 25 test accuracy 0.4989\n",
      "epoch: 26 test accuracy 0.4989\n",
      "epoch: 27 test accuracy 0.4989\n",
      "epoch: 28 test accuracy 0.4989\n",
      "epoch: 29 test accuracy 0.5011\n"
     ]
    }
   ],
   "source": [
    "trn_loss_list = list()\n",
    "test_loss_list = list()\n",
    "test_accuracy_list = list()\n",
    "with tf.Session() as sess:    \n",
    "    tf.initialize_all_variables().run()\n",
    "    \n",
    "    for i in range(epoch_size):\n",
    "        trn_loss = 0\n",
    "        for start, end in zip(range(0, len(X_train), batch_size), range(batch_size, len(X_train)+1, batch_size)):\n",
    "            tmp_loss, _ = sess.run([loss, train_op], feed_dict={X: X_train[start:end], Y: Y_train[start:end]})\n",
    "            trn_loss += tmp_loss\n",
    "        \n",
    "        trn_loss_list.append(trn_loss / 100)\n",
    "        test_loss, test_acc = sess.run([loss, accuracy], feed_dict={X: X_test, Y: Y_test})\n",
    "        test_loss_list.append(test_loss)\n",
    "        test_accuracy_list.append(test_acc)\n",
    "        print(\"epoch: {} test accuracy {:0.4f}\".format(i, test_acc))"
   ]
  },
  {
   "cell_type": "markdown",
   "metadata": {},
   "source": [
    "## Loss plot"
   ]
  },
  {
   "cell_type": "code",
   "execution_count": 7,
   "metadata": {
    "collapsed": false,
    "scrolled": false
   },
   "outputs": [
    {
     "data": {
      "text/plain": [
       "<matplotlib.text.Text at 0x7f86faac3250>"
      ]
     },
     "execution_count": 7,
     "metadata": {},
     "output_type": "execute_result"
    },
    {
     "data": {
      "image/png": "[encoded data removed]",
      "text/plain": [
       "<matplotlib.figure.Figure at 0x7f86fabf7850>"
      ]
     },
     "metadata": {},
     "output_type": "display_data"
    }
   ],
   "source": [
    "x = np.arange(epoch_size) # epoch size와 일치해야 한다.\n",
    "plt.plot(x, trn_loss_list)\n",
    "plt.plot(x, test_loss_list)\n",
    "plt.title(\"cross entropy loss\")\n",
    "plt.legend([\"train loss\", \"test_loss\"])\n",
    "plt.xlabel(\"epoch\")\n",
    "plt.ylabel(\"cross entropy\")"
   ]
  },
  {
   "cell_type": "markdown",
   "metadata": {},
   "source": [
    "## Accuracy plot"
   ]
  },
  {
   "cell_type": "code",
   "execution_count": 8,
   "metadata": {
    "collapsed": false,
    "scrolled": true
   },
   "outputs": [
    {
     "data": {
      "text/plain": [
       "<matplotlib.text.Text at 0x7f86f896df10>"
      ]
     },
     "execution_count": 8,
     "metadata": {},
     "output_type": "execute_result"
    },
    {
     "data": {
      "image/png": "[encoded data removed]",
      "text/plain": [
       "<matplotlib.figure.Figure at 0x7f86fabf7750>"
      ]
     },
     "metadata": {},
     "output_type": "display_data"
    }
   ],
   "source": [
    "x = np.arange(epoch_size) # epoch size와 일치해야 한다.\n",
    "plt.plot(x, test_accuracy_list)\n",
    "plt.title(\"prediction accuracy\")\n",
    "plt.xlabel(\"epoch\")\n",
    "plt.ylabel(\"accuracy\")"
   ]
  },
  {
   "cell_type": "code",
   "execution_count": null,
   "metadata": {
    "collapsed": true
   },
   "outputs": [],
   "source": []
  }
 ],
 "metadata": {
  "anaconda-cloud": {},
  "kernelspec": {
   "display_name": "Python 2",
   "language": "python",
   "name": "python2"
  },
  "language_info": {
   "codemirror_mode": {
    "name": "ipython",
    "version": 2
   },
   "file_extension": ".py",
   "mimetype": "text/x-python",
   "name": "python",
   "nbconvert_exporter": "python",
   "pygments_lexer": "ipython2",
   "version": "2.7.6"
  }
 },
 "nbformat": 4,
 "nbformat_minor": 0
}

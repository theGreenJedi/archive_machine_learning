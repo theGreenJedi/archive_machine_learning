{
 "cells": [
  {
   "cell_type": "code",
   "execution_count": 1,
   "metadata": {
    "collapsed": true
   },
   "outputs": [],
   "source": [
    "# EE488C Special Topics in EE <Deep Learning and AlphaGo>, Fall 2016\n",
    "# Information Theory & Machine Learning Lab, School of EE, KAIST\n",
    "\n",
    "import matplotlib.pyplot as plt\n",
    "import numpy as np"
   ]
  },
  {
   "cell_type": "code",
   "execution_count": 13,
   "metadata": {
    "collapsed": true
   },
   "outputs": [],
   "source": [
    "n = 10\t\t\t# number of arms\n",
    "R = np.random.rand(n)\t# average payout\n",
    "stdev = 0.3               # standard deviation for random Gaussian\n",
    "N = 100\t\t\t# number of plays 1000\n",
    "m = 50\t\t\t# number of tasks for averaging, for normalization. 500\n",
    "\n",
    "def epsilon_greedy(n, N, m, R, stdev, e_start, e_end, eN):\n",
    "    avg_reward=np.zeros(N)\n",
    "    Rmax=np.max(R)\n",
    "    for _ in range(m):\n",
    "        Q = np.zeros(n)\n",
    "        Qn = np.zeros(n)\n",
    "\n",
    "        for t in range(N):\n",
    "            e=(e_end-e_start)*np.min([t,eN])/eN+e_start\n",
    "            #print 'e', e\n",
    "            if np.random.rand(1)<e:\n",
    "                i = np.random.randint(n)\n",
    "                #print 'np.random.randint(n)', i\n",
    "            else:\n",
    "                Qr=Q+np.random.rand(10)*1e-10\t# add a small random vector for random tie breaking\n",
    "                i = np.argmax(Qr) # explo\n",
    "                #print 'np.argmax(Qr)', i\n",
    "            r=np.random.normal(R[i], stdev, 1)\n",
    "            Q[i]=(Q[i]*Qn[i]+r)/(Qn[i]+1)\n",
    "            Qn[i]+=1\n",
    "            avg_reward[t]+=r\n",
    "            \n",
    "    #print avg_reward\n",
    "    return avg_reward/(m*Rmax) "
   ]
  },
  {
   "cell_type": "code",
   "execution_count": 16,
   "metadata": {
    "collapsed": false
   },
   "outputs": [
    {
     "name": "stdout",
     "output_type": "stream",
     "text": [
      "[ 29.49467643  24.15631198  28.76798584  31.14279528  26.32958194\n",
      "  30.02735796  32.58729643  26.89589321  26.38754607  28.9823784\n",
      "  30.8413801   32.68045424  31.15096164  29.76162055  35.51278347\n",
      "  28.14908736  31.31843698  28.31580334  29.05582823  30.07863329\n",
      "  27.19213527  34.04200694  30.13859196  29.32684422  29.41053862\n",
      "  33.14392712  29.31609093  32.12392     31.2965393   30.31393523\n",
      "  29.93621247  35.10378335  34.79162987  31.25419153  28.44962044\n",
      "  33.06521981  35.89700246  30.70917329  32.70559018  31.1103801\n",
      "  30.45311505  33.80899226  29.93585286  30.9066685   35.33214971\n",
      "  31.55049246  32.03699973  32.84979737  31.87059927  36.48774788\n",
      "  35.461002    30.09898834  36.44013289  31.64579126  31.49303107\n",
      "  36.7885038   35.11399052  29.49748794  30.14539065  31.93410548\n",
      "  36.46925579  32.21690863  31.47329394  30.41235299  31.84110739\n",
      "  31.43622331  28.23362172  30.04374236  31.86958845  30.67127953\n",
      "  30.29215819  31.22891178  30.85908807  32.48301073  30.7094032\n",
      "  31.88817588  32.5210763   31.19523255  32.39942897  31.96647326\n",
      "  32.11280037  32.46664343  28.02393942  34.51324221  34.01517525\n",
      "  28.15386978  28.0952049   33.57891166  34.09228496  29.38043364\n",
      "  35.17171092  32.20140503  28.75135111  32.89314393  36.56644024\n",
      "  36.14765965  35.03598438  30.3155739   33.27163167  34.66627551]\n"
     ]
    }
   ],
   "source": [
    "#avg_reward0 = epsilon_greedy(n, N, m, R, stdev, 0., 0., N)\n",
    "avg_reward001 = epsilon_greedy(n, N, m, R, stdev, 0.01, 0.01, N)\n",
    "#avg_reward01 = epsilon_greedy(n, N, m, R, stdev, 0.1, 0.1, N)\n",
    "#avg_reward05 = epsilon_greedy(n, N, m, R, stdev, 0.5, 0.5, N)\n",
    "#avg_reward1 = epsilon_greedy(n, N, m, R, stdev, 1., 1., N)\n",
    "#avg_reward = epsilon_greedy(n, N, m, R, stdev, 1., 0., 500)\n"
   ]
  },
  {
   "cell_type": "code",
   "execution_count": 15,
   "metadata": {
    "collapsed": false,
    "scrolled": false
   },
   "outputs": [
    {
     "name": "stdout",
     "output_type": "stream",
     "text": [
      "[ 29.90921373  29.24502828  28.18447893  36.21739681  31.81096667\n",
      "  30.10731175  29.93528655  29.55384106  33.75624706  34.17483571\n",
      "  31.8463335   32.68705541  33.1289056   33.26126782  35.04861127\n",
      "  30.92782208  27.85617464  29.70414124  33.23009592  35.49010851\n",
      "  30.81318648  32.19143784  31.40139921  33.39753188  31.67811077\n",
      "  35.10883682  30.87615445  33.91380212  34.67065221  32.88781175\n",
      "  33.70726784  38.93001029  35.28690864  31.25060481  35.12662245\n",
      "  35.19685254  35.54921739  37.30924285  33.86609877  37.75647573\n",
      "  36.6229123   32.84846004  35.99472681  36.43303015  30.7907986\n",
      "  38.12596565  34.97362859  36.2659467   34.28639293  34.30205231\n",
      "  40.51182207  33.4940147   36.32740314  36.04936105  40.73509227\n",
      "  31.13168726  32.66190264  34.95615399  36.08016357  38.25736334\n",
      "  34.02147605  34.68777366  38.15074144  35.68178633  35.49561032\n",
      "  38.60607595  34.58625546  36.91765642  39.96507283  34.81623488\n",
      "  37.82653244  33.98334462  39.29866763  35.8154565   32.18151738\n",
      "  36.66150782  35.31779399  35.70745802  36.25573434  35.73178058\n",
      "  32.43341591  35.26533045  34.06027764  35.48240082  35.6330705\n",
      "  36.51568453  33.19598744  31.71032893  37.7404766   39.25090098\n",
      "  35.90946751  37.42098553  37.04411161  35.21300105  36.02215084\n",
      "  38.7291995   34.94659605  41.64707144  37.05639803  38.14420777]\n",
      "[ 0.65366949  0.63915364  0.61597521  0.7915356   0.69523254  0.65799895\n",
      "  0.65423932  0.64590278  0.73774687  0.74689518  0.69600548  0.71437956\n",
      "  0.72403625  0.72692904  0.76599165  0.6759313   0.60880008  0.64918761\n",
      "  0.72624778  0.77564063  0.67342593  0.70354778  0.68628139  0.72990711\n",
      "  0.69232895  0.76730789  0.6748021   0.74119026  0.75773131  0.71876712\n",
      "  0.73667643  0.8508201   0.77119967  0.68298576  0.7676966   0.76923148\n",
      "  0.77693246  0.81539803  0.7401477   0.82517236  0.80039819  0.71790708\n",
      "  0.78666912  0.79624829  0.67293664  0.8332476   0.7643529   0.79259667\n",
      "  0.74933328  0.74967551  0.88539079  0.73201575  0.7939398   0.78786316\n",
      "  0.89027038  0.6803868   0.71382984  0.76397099  0.78853635  0.83611932\n",
      "  0.74354349  0.7581055   0.83378908  0.77982977  0.77576087  0.84374047\n",
      "  0.75588681  0.80683986  0.87344152  0.76091304  0.82670346  0.74271012\n",
      "  0.85887715  0.78275115  0.70333097  0.8012417   0.77187467  0.78039083\n",
      "  0.79237347  0.7809224   0.70883624  0.77072808  0.7443915   0.77547217\n",
      "  0.77876508  0.79805472  0.72550233  0.69303309  0.82482269  0.8578332\n",
      "  0.78480577  0.81784018  0.80960355  0.76958441  0.78726848  0.84643135\n",
      "  0.7637621   0.9102018   0.80987207  0.83364629]\n"
     ]
    },
    {
     "ename": "ValueError",
     "evalue": "x and y must have same first dimension",
     "output_type": "error",
     "traceback": [
      "\u001b[0;31m---------------------------------------------------------------------------\u001b[0m",
      "\u001b[0;31mValueError\u001b[0m                                Traceback (most recent call last)",
      "\u001b[0;32m<ipython-input-15-781260446380>\u001b[0m in \u001b[0;36m<module>\u001b[0;34m()\u001b[0m\n\u001b[1;32m      9\u001b[0m \u001b[0mplt\u001b[0m\u001b[1;33m.\u001b[0m\u001b[0mfigure\u001b[0m\u001b[1;33m(\u001b[0m\u001b[1;36m1\u001b[0m\u001b[1;33m)\u001b[0m\u001b[1;33m\u001b[0m\u001b[0m\n\u001b[1;32m     10\u001b[0m \u001b[0mt\u001b[0m\u001b[1;33m=\u001b[0m\u001b[0mnp\u001b[0m\u001b[1;33m.\u001b[0m\u001b[0marange\u001b[0m\u001b[1;33m(\u001b[0m\u001b[0mN\u001b[0m\u001b[1;33m)\u001b[0m\u001b[1;33m+\u001b[0m\u001b[1;36m1\u001b[0m\u001b[1;33m\u001b[0m\u001b[0m\n\u001b[0;32m---> 11\u001b[0;31m \u001b[0mplt\u001b[0m\u001b[1;33m.\u001b[0m\u001b[0mplot\u001b[0m\u001b[1;33m(\u001b[0m\u001b[0mt\u001b[0m\u001b[1;33m,\u001b[0m \u001b[0mavg_reward0\u001b[0m\u001b[1;33m,\u001b[0m \u001b[0mt\u001b[0m\u001b[1;33m,\u001b[0m \u001b[0mavg_reward001\u001b[0m\u001b[1;33m,\u001b[0m \u001b[0mt\u001b[0m\u001b[1;33m,\u001b[0m \u001b[0mavg_reward01\u001b[0m\u001b[1;33m,\u001b[0m \u001b[0mt\u001b[0m\u001b[1;33m,\u001b[0m \u001b[0mavg_reward05\u001b[0m\u001b[1;33m,\u001b[0m \u001b[0mt\u001b[0m\u001b[1;33m,\u001b[0m \u001b[0mavg_reward1\u001b[0m\u001b[1;33m,\u001b[0m \u001b[0mt\u001b[0m\u001b[1;33m,\u001b[0m \u001b[0mavg_reward\u001b[0m\u001b[1;33m)\u001b[0m\u001b[1;33m\u001b[0m\u001b[0m\n\u001b[0m\u001b[1;32m     12\u001b[0m \u001b[0mplt\u001b[0m\u001b[1;33m.\u001b[0m\u001b[0mlegend\u001b[0m\u001b[1;33m(\u001b[0m\u001b[1;33m[\u001b[0m\u001b[1;34m'e=0'\u001b[0m\u001b[1;33m,\u001b[0m \u001b[1;34m'e=0.01'\u001b[0m\u001b[1;33m,\u001b[0m \u001b[1;34m'e=0.1'\u001b[0m\u001b[1;33m,\u001b[0m \u001b[1;34m'e=0.5'\u001b[0m\u001b[1;33m,\u001b[0m \u001b[1;34m'e=1'\u001b[0m\u001b[1;33m,\u001b[0m \u001b[1;34m'e=(1 -> 0)'\u001b[0m\u001b[1;33m]\u001b[0m\u001b[1;33m,\u001b[0m \u001b[0mloc\u001b[0m\u001b[1;33m=\u001b[0m\u001b[1;34m'lower right'\u001b[0m\u001b[1;33m)\u001b[0m\u001b[1;33m\u001b[0m\u001b[0m\n\u001b[1;32m     13\u001b[0m \u001b[1;33m\u001b[0m\u001b[0m\n",
      "\u001b[0;32mC:\\Users\\Office\\Anaconda2\\lib\\site-packages\\matplotlib\\pyplot.pyc\u001b[0m in \u001b[0;36mplot\u001b[0;34m(*args, **kwargs)\u001b[0m\n\u001b[1;32m   3159\u001b[0m         \u001b[0max\u001b[0m\u001b[1;33m.\u001b[0m\u001b[0mhold\u001b[0m\u001b[1;33m(\u001b[0m\u001b[0mhold\u001b[0m\u001b[1;33m)\u001b[0m\u001b[1;33m\u001b[0m\u001b[0m\n\u001b[1;32m   3160\u001b[0m     \u001b[1;32mtry\u001b[0m\u001b[1;33m:\u001b[0m\u001b[1;33m\u001b[0m\u001b[0m\n\u001b[0;32m-> 3161\u001b[0;31m         \u001b[0mret\u001b[0m \u001b[1;33m=\u001b[0m \u001b[0max\u001b[0m\u001b[1;33m.\u001b[0m\u001b[0mplot\u001b[0m\u001b[1;33m(\u001b[0m\u001b[1;33m*\u001b[0m\u001b[0margs\u001b[0m\u001b[1;33m,\u001b[0m \u001b[1;33m**\u001b[0m\u001b[0mkwargs\u001b[0m\u001b[1;33m)\u001b[0m\u001b[1;33m\u001b[0m\u001b[0m\n\u001b[0m\u001b[1;32m   3162\u001b[0m     \u001b[1;32mfinally\u001b[0m\u001b[1;33m:\u001b[0m\u001b[1;33m\u001b[0m\u001b[0m\n\u001b[1;32m   3163\u001b[0m         \u001b[0max\u001b[0m\u001b[1;33m.\u001b[0m\u001b[0mhold\u001b[0m\u001b[1;33m(\u001b[0m\u001b[0mwashold\u001b[0m\u001b[1;33m)\u001b[0m\u001b[1;33m\u001b[0m\u001b[0m\n",
      "\u001b[0;32mC:\\Users\\Office\\Anaconda2\\lib\\site-packages\\matplotlib\\__init__.pyc\u001b[0m in \u001b[0;36minner\u001b[0;34m(ax, *args, **kwargs)\u001b[0m\n\u001b[1;32m   1816\u001b[0m                     warnings.warn(msg % (label_namer, func.__name__),\n\u001b[1;32m   1817\u001b[0m                                   RuntimeWarning, stacklevel=2)\n\u001b[0;32m-> 1818\u001b[0;31m             \u001b[1;32mreturn\u001b[0m \u001b[0mfunc\u001b[0m\u001b[1;33m(\u001b[0m\u001b[0max\u001b[0m\u001b[1;33m,\u001b[0m \u001b[1;33m*\u001b[0m\u001b[0margs\u001b[0m\u001b[1;33m,\u001b[0m \u001b[1;33m**\u001b[0m\u001b[0mkwargs\u001b[0m\u001b[1;33m)\u001b[0m\u001b[1;33m\u001b[0m\u001b[0m\n\u001b[0m\u001b[1;32m   1819\u001b[0m         \u001b[0mpre_doc\u001b[0m \u001b[1;33m=\u001b[0m \u001b[0minner\u001b[0m\u001b[1;33m.\u001b[0m\u001b[0m__doc__\u001b[0m\u001b[1;33m\u001b[0m\u001b[0m\n\u001b[1;32m   1820\u001b[0m         \u001b[1;32mif\u001b[0m \u001b[0mpre_doc\u001b[0m \u001b[1;32mis\u001b[0m \u001b[0mNone\u001b[0m\u001b[1;33m:\u001b[0m\u001b[1;33m\u001b[0m\u001b[0m\n",
      "\u001b[0;32mC:\\Users\\Office\\Anaconda2\\lib\\site-packages\\matplotlib\\axes\\_axes.pyc\u001b[0m in \u001b[0;36mplot\u001b[0;34m(self, *args, **kwargs)\u001b[0m\n\u001b[1;32m   1380\u001b[0m         \u001b[0mkwargs\u001b[0m \u001b[1;33m=\u001b[0m \u001b[0mcbook\u001b[0m\u001b[1;33m.\u001b[0m\u001b[0mnormalize_kwargs\u001b[0m\u001b[1;33m(\u001b[0m\u001b[0mkwargs\u001b[0m\u001b[1;33m,\u001b[0m \u001b[0m_alias_map\u001b[0m\u001b[1;33m)\u001b[0m\u001b[1;33m\u001b[0m\u001b[0m\n\u001b[1;32m   1381\u001b[0m \u001b[1;33m\u001b[0m\u001b[0m\n\u001b[0;32m-> 1382\u001b[0;31m         \u001b[1;32mfor\u001b[0m \u001b[0mline\u001b[0m \u001b[1;32min\u001b[0m \u001b[0mself\u001b[0m\u001b[1;33m.\u001b[0m\u001b[0m_get_lines\u001b[0m\u001b[1;33m(\u001b[0m\u001b[1;33m*\u001b[0m\u001b[0margs\u001b[0m\u001b[1;33m,\u001b[0m \u001b[1;33m**\u001b[0m\u001b[0mkwargs\u001b[0m\u001b[1;33m)\u001b[0m\u001b[1;33m:\u001b[0m\u001b[1;33m\u001b[0m\u001b[0m\n\u001b[0m\u001b[1;32m   1383\u001b[0m             \u001b[0mself\u001b[0m\u001b[1;33m.\u001b[0m\u001b[0madd_line\u001b[0m\u001b[1;33m(\u001b[0m\u001b[0mline\u001b[0m\u001b[1;33m)\u001b[0m\u001b[1;33m\u001b[0m\u001b[0m\n\u001b[1;32m   1384\u001b[0m             \u001b[0mlines\u001b[0m\u001b[1;33m.\u001b[0m\u001b[0mappend\u001b[0m\u001b[1;33m(\u001b[0m\u001b[0mline\u001b[0m\u001b[1;33m)\u001b[0m\u001b[1;33m\u001b[0m\u001b[0m\n",
      "\u001b[0;32mC:\\Users\\Office\\Anaconda2\\lib\\site-packages\\matplotlib\\axes\\_base.pyc\u001b[0m in \u001b[0;36m_grab_next_args\u001b[0;34m(self, *args, **kwargs)\u001b[0m\n\u001b[1;32m    388\u001b[0m                 \u001b[0misplit\u001b[0m \u001b[1;33m=\u001b[0m \u001b[1;36m2\u001b[0m\u001b[1;33m\u001b[0m\u001b[0m\n\u001b[1;32m    389\u001b[0m \u001b[1;33m\u001b[0m\u001b[0m\n\u001b[0;32m--> 390\u001b[0;31m             \u001b[1;32mfor\u001b[0m \u001b[0mseg\u001b[0m \u001b[1;32min\u001b[0m \u001b[0mself\u001b[0m\u001b[1;33m.\u001b[0m\u001b[0m_plot_args\u001b[0m\u001b[1;33m(\u001b[0m\u001b[0mremaining\u001b[0m\u001b[1;33m[\u001b[0m\u001b[1;33m:\u001b[0m\u001b[0misplit\u001b[0m\u001b[1;33m]\u001b[0m\u001b[1;33m,\u001b[0m \u001b[0mkwargs\u001b[0m\u001b[1;33m)\u001b[0m\u001b[1;33m:\u001b[0m\u001b[1;33m\u001b[0m\u001b[0m\n\u001b[0m\u001b[1;32m    391\u001b[0m                 \u001b[1;32myield\u001b[0m \u001b[0mseg\u001b[0m\u001b[1;33m\u001b[0m\u001b[0m\n\u001b[1;32m    392\u001b[0m             \u001b[0mremaining\u001b[0m \u001b[1;33m=\u001b[0m \u001b[0mremaining\u001b[0m\u001b[1;33m[\u001b[0m\u001b[0misplit\u001b[0m\u001b[1;33m:\u001b[0m\u001b[1;33m]\u001b[0m\u001b[1;33m\u001b[0m\u001b[0m\n",
      "\u001b[0;32mC:\\Users\\Office\\Anaconda2\\lib\\site-packages\\matplotlib\\axes\\_base.pyc\u001b[0m in \u001b[0;36m_plot_args\u001b[0;34m(self, tup, kwargs)\u001b[0m\n\u001b[1;32m    357\u001b[0m             \u001b[0mx\u001b[0m\u001b[1;33m,\u001b[0m \u001b[0my\u001b[0m \u001b[1;33m=\u001b[0m \u001b[0mindex_of\u001b[0m\u001b[1;33m(\u001b[0m\u001b[0mtup\u001b[0m\u001b[1;33m[\u001b[0m\u001b[1;33m-\u001b[0m\u001b[1;36m1\u001b[0m\u001b[1;33m]\u001b[0m\u001b[1;33m)\u001b[0m\u001b[1;33m\u001b[0m\u001b[0m\n\u001b[1;32m    358\u001b[0m \u001b[1;33m\u001b[0m\u001b[0m\n\u001b[0;32m--> 359\u001b[0;31m         \u001b[0mx\u001b[0m\u001b[1;33m,\u001b[0m \u001b[0my\u001b[0m \u001b[1;33m=\u001b[0m \u001b[0mself\u001b[0m\u001b[1;33m.\u001b[0m\u001b[0m_xy_from_xy\u001b[0m\u001b[1;33m(\u001b[0m\u001b[0mx\u001b[0m\u001b[1;33m,\u001b[0m \u001b[0my\u001b[0m\u001b[1;33m)\u001b[0m\u001b[1;33m\u001b[0m\u001b[0m\n\u001b[0m\u001b[1;32m    360\u001b[0m \u001b[1;33m\u001b[0m\u001b[0m\n\u001b[1;32m    361\u001b[0m         \u001b[1;32mif\u001b[0m \u001b[0mself\u001b[0m\u001b[1;33m.\u001b[0m\u001b[0mcommand\u001b[0m \u001b[1;33m==\u001b[0m \u001b[1;34m'plot'\u001b[0m\u001b[1;33m:\u001b[0m\u001b[1;33m\u001b[0m\u001b[0m\n",
      "\u001b[0;32mC:\\Users\\Office\\Anaconda2\\lib\\site-packages\\matplotlib\\axes\\_base.pyc\u001b[0m in \u001b[0;36m_xy_from_xy\u001b[0;34m(self, x, y)\u001b[0m\n\u001b[1;32m    217\u001b[0m         \u001b[0my\u001b[0m \u001b[1;33m=\u001b[0m \u001b[0m_check_1d\u001b[0m\u001b[1;33m(\u001b[0m\u001b[0my\u001b[0m\u001b[1;33m)\u001b[0m\u001b[1;33m\u001b[0m\u001b[0m\n\u001b[1;32m    218\u001b[0m         \u001b[1;32mif\u001b[0m \u001b[0mx\u001b[0m\u001b[1;33m.\u001b[0m\u001b[0mshape\u001b[0m\u001b[1;33m[\u001b[0m\u001b[1;36m0\u001b[0m\u001b[1;33m]\u001b[0m \u001b[1;33m!=\u001b[0m \u001b[0my\u001b[0m\u001b[1;33m.\u001b[0m\u001b[0mshape\u001b[0m\u001b[1;33m[\u001b[0m\u001b[1;36m0\u001b[0m\u001b[1;33m]\u001b[0m\u001b[1;33m:\u001b[0m\u001b[1;33m\u001b[0m\u001b[0m\n\u001b[0;32m--> 219\u001b[0;31m             \u001b[1;32mraise\u001b[0m \u001b[0mValueError\u001b[0m\u001b[1;33m(\u001b[0m\u001b[1;34m\"x and y must have same first dimension\"\u001b[0m\u001b[1;33m)\u001b[0m\u001b[1;33m\u001b[0m\u001b[0m\n\u001b[0m\u001b[1;32m    220\u001b[0m         \u001b[1;32mif\u001b[0m \u001b[0mx\u001b[0m\u001b[1;33m.\u001b[0m\u001b[0mndim\u001b[0m \u001b[1;33m>\u001b[0m \u001b[1;36m2\u001b[0m \u001b[1;32mor\u001b[0m \u001b[0my\u001b[0m\u001b[1;33m.\u001b[0m\u001b[0mndim\u001b[0m \u001b[1;33m>\u001b[0m \u001b[1;36m2\u001b[0m\u001b[1;33m:\u001b[0m\u001b[1;33m\u001b[0m\u001b[0m\n\u001b[1;32m    221\u001b[0m             \u001b[1;32mraise\u001b[0m \u001b[0mValueError\u001b[0m\u001b[1;33m(\u001b[0m\u001b[1;34m\"x and y can be no greater than 2-D\"\u001b[0m\u001b[1;33m)\u001b[0m\u001b[1;33m\u001b[0m\u001b[0m\n",
      "\u001b[0;31mValueError\u001b[0m: x and y must have same first dimension"
     ]
    }
   ],
   "source": [
    "\n",
    "plt.figure(1)\n",
    "t=np.arange(N)+1\n",
    "plt.plot(t, avg_reward0, t, avg_reward001, t, avg_reward01, t, avg_reward05, t, avg_reward1, t, avg_reward)\n",
    "plt.legend(['e=0', 'e=0.01', 'e=0.1', 'e=0.5', 'e=1', 'e=(1 -> 0)'], loc='lower right')\n",
    "\n",
    "plt.grid(True)\n",
    "plt.xlabel('plays')\n",
    "plt.ylabel('Normalized average reward')\n",
    "# uncomment the following to save the figure\n",
    "#plt.savefig('lecture15_narmedbandit.png', dpi=300, bbox_inches='tight')\n",
    "plt.show()\n",
    "\n"
   ]
  },
  {
   "cell_type": "code",
   "execution_count": null,
   "metadata": {
    "collapsed": true
   },
   "outputs": [],
   "source": []
  }
 ],
 "metadata": {
  "anaconda-cloud": {},
  "kernelspec": {
   "display_name": "Python [conda root]",
   "language": "python",
   "name": "conda-root-py"
  },
  "language_info": {
   "codemirror_mode": {
    "name": "ipython",
    "version": 2
   },
   "file_extension": ".py",
   "mimetype": "text/x-python",
   "name": "python",
   "nbconvert_exporter": "python",
   "pygments_lexer": "ipython2",
   "version": "2.7.12"
  }
 },
 "nbformat": 4,
 "nbformat_minor": 1
}

{
 "cells": [
  {
   "cell_type": "markdown",
   "metadata": {},
   "source": [
    "## Problem definiction\n",
    "We have a website, which has many pages. <br>\n",
    "We want to increase traffic and avoid high bounce rate to have a high ranking in google search engine. <br>\n",
    "** Which page in our website is most important or famous for the users? ** <br>\n",
    "We use Markov Model to model this problem. <br>\n",
    "\n",
    "---\n",
    "\n",
    "### Arrival\n",
    "How do people get to your page???\n",
    "First, we just think that which of your pages is most likely started on.  \n",
    " - Initial state distribution (pi) \n",
    "\n",
    "\n",
    "### Sequences of pages\n",
    "In our website, there can be a sequence like Landing page -> menu click -> click buy button -> close browser. <br>\n",
    "We can calculate the probability of any sequences. <br>\n",
    "We can think that:\n",
    " - We can compare two different sequences (log probability)\n",
    " - We can find the transition probability, which is conditional probability (not joint probability)\n",
    "\n",
    "\n",
    "### Bounce rate\n",
    "Knowing this is difficult for individual (but easy to Google) <br>\n",
    "Once the user has left, we don't know what they'are doing. <br>\n",
    "But, let's assume that we can represent end of sequence with a null state.\n",
    "\n",
    "---\n",
    "\n",
    "## Data\n",
    "* 2 columns: last_page_id, next_page_id\n",
    "* 10 pages, IDs: 0~9\n",
    "* Start pages have last_page_id = -1\n",
    "* End pages will have B(bounce) or C(close)\n",
    "\n",
    "This means that the starting point is '-1' and the pages we want anlayze are '0~9'. \n"
   ]
  },
  {
   "cell_type": "code",
   "execution_count": 1,
   "metadata": {
    "collapsed": true
   },
   "outputs": [],
   "source": [
    "import numpy as np\n",
    "\n",
    "transitions = {} # frequency of each page\n",
    "row_sums = {}"
   ]
  },
  {
   "cell_type": "code",
   "execution_count": 2,
   "metadata": {
    "collapsed": false
   },
   "outputs": [],
   "source": [
    "########################################################################\n",
    "\"\"\"                           collect counts                         \"\"\"\n",
    "########################################################################\n",
    "for line in open('data/site_data.csv'):\n",
    "    s, e = line.rstrip().split(',') # return start_page and last_page\n",
    "    transitions[(s, e)] = transitions.get((s, e), 0.) + 1 # key: s, e , default value: 0\n",
    "    row_sums[s] = row_sums.get(s, 0.) + 1\n",
    "    "
   ]
  },
  {
   "cell_type": "code",
   "execution_count": 3,
   "metadata": {
    "collapsed": false
   },
   "outputs": [
    {
     "name": "stdout",
     "output_type": "stream",
     "text": [
      "('-1', '0') 2045.0\n",
      "('-1', '1') 2055.0\n",
      "('-1', '2') 1888.0\n",
      "('-1', '3') 1889.0\n",
      "('-1', '4') 2034.0\n",
      "('-1', '5') 1942.0\n",
      "('-1', '6') 1946.0\n",
      "('-1', '7') 1980.0\n",
      "('-1', '8') 2016.0\n",
      "('-1', '9') 2062.0\n",
      "('0', '0') 593.0\n",
      "('0', '1') 593.0\n",
      "('0', '2') 642.0\n",
      "('0', '3') 589.0\n",
      "('0', '4') 588.0\n"
     ]
    }
   ],
   "source": [
    "# Print first 15 in dictionary\n",
    "for key in sorted(transitions)[:15]:\n",
    "    print key, transitions[key]"
   ]
  },
  {
   "cell_type": "code",
   "execution_count": 4,
   "metadata": {
    "collapsed": false
   },
   "outputs": [
    {
     "data": {
      "text/plain": [
       "{'-1': 19857.0,\n",
       " '0': 8088.0,\n",
       " '1': 8115.0,\n",
       " '2': 8024.0,\n",
       " '3': 8012.0,\n",
       " '4': 8035.0,\n",
       " '5': 7858.0,\n",
       " '6': 8095.0,\n",
       " '7': 7986.0,\n",
       " '8': 8037.0,\n",
       " '9': 7893.0}"
      ]
     },
     "execution_count": 4,
     "metadata": {},
     "output_type": "execute_result"
    }
   ],
   "source": [
    "# Print dictionary\n",
    "row_sums"
   ]
  },
  {
   "cell_type": "code",
   "execution_count": 5,
   "metadata": {
    "collapsed": false
   },
   "outputs": [],
   "source": [
    "########################################################################\n",
    "\"\"\"                           normalize                         \"\"\"\n",
    "########################################################################\n",
    "for k, v in transitions.iteritems(): # number of cases\n",
    "    s, e = k \n",
    "    transitions[k] = v / row_sums[s] # make probability"
   ]
  },
  {
   "cell_type": "code",
   "execution_count": 6,
   "metadata": {
    "collapsed": false
   },
   "outputs": [
    {
     "name": "stdout",
     "output_type": "stream",
     "text": [
      "('-1', '0') 0.10298635242\n",
      "('-1', '1') 0.103489953165\n",
      "('-1', '2') 0.0950798207181\n",
      "('-1', '3') 0.0951301807927\n",
      "('-1', '4') 0.1024323916\n",
      "('-1', '5') 0.0977992647429\n",
      "('-1', '6') 0.098000705041\n",
      "('-1', '7') 0.0997129475752\n",
      "('-1', '8') 0.101525910258\n",
      "('-1', '9') 0.103842473687\n",
      "('0', '0') 0.0733184965381\n",
      "('0', '1') 0.0733184965381\n",
      "('0', '2') 0.0793768545994\n",
      "('0', '3') 0.0728239366963\n",
      "('0', '4') 0.0727002967359\n"
     ]
    }
   ],
   "source": [
    "# Print first 15 in dictionary\n",
    "for key in sorted(transitions)[:15]:\n",
    "    print key, transitions[key]"
   ]
  },
  {
   "cell_type": "code",
   "execution_count": 7,
   "metadata": {
    "collapsed": false,
    "scrolled": true
   },
   "outputs": [
    {
     "name": "stdout",
     "output_type": "stream",
     "text": [
      "Initial state distribution (probability distribtion of -1)\n",
      "4 0.1024323916\n",
      "6 0.098000705041\n",
      "9 0.103842473687\n",
      "0 0.10298635242\n",
      "2 0.0950798207181\n",
      "5 0.0977992647429\n",
      "7 0.0997129475752\n",
      "1 0.103489953165\n",
      "8 0.101525910258\n",
      "3 0.0951301807927\n"
     ]
    }
   ],
   "source": [
    "########################################################################\n",
    "\"\"\"                 initial state distribution                       \"\"\"\n",
    "########################################################################\n",
    "print \"Initial state distribution (probability distribtion of -1)\"\n",
    "for k, v in transitions.iteritems():\n",
    "    s, e = k\n",
    "    if s == '-1':\n",
    "        print e, v"
   ]
  },
  {
   "cell_type": "markdown",
   "metadata": {},
   "source": [
    "Since page 9 has the highest probability, the starting point would be at 9."
   ]
  },
  {
   "cell_type": "code",
   "execution_count": 8,
   "metadata": {
    "collapsed": false
   },
   "outputs": [
    {
     "name": "stdout",
     "output_type": "stream",
     "text": [
      "the probability distribution at the page 3 \n",
      "(spreading probability at page 3) or (outcoming probability at page 3)\n",
      "C 0.121442835746\n",
      "B 0.127433849226\n",
      "9 0.0722666000999\n",
      "8 0.0711432850724\n",
      "7 0.0761357963055\n",
      "6 0.0715177234149\n",
      "5 0.0778831752371\n",
      "4 0.0718921617574\n",
      "3 0.0773839241138\n",
      "2 0.0792561158263\n",
      "1 0.0790064902646\n",
      "0 0.0746380429356\n"
     ]
    }
   ],
   "source": [
    "print \"the probability distribution at the page 3 \\n\\\n",
    "(spreading probability at page 3) or (outcoming probability at page 3)\" \n",
    "for k, v in transitions.iteritems():\n",
    "    s, e = k\n",
    "    if s == '3': # if starting point is 3\n",
    "        print e, v"
   ]
  },
  {
   "cell_type": "code",
   "execution_count": 9,
   "metadata": {
    "collapsed": false
   },
   "outputs": [
    {
     "name": "stdout",
     "output_type": "stream",
     "text": [
      "bounce rate for 8: 0.125295508274\n",
      "bounce rate for 3: 0.127433849226\n",
      "bounce rate for 2: 0.12649551346\n",
      "bounce rate for 7: 0.123716503882\n",
      "bounce rate for 9: 0.131762321044\n",
      "bounce rate for 6: 0.120815318098\n",
      "bounce rate for 0: 0.12796735905\n",
      "bounce rate for 4: 0.125575606721\n",
      "bounce rate for 1: 0.125939617991\n",
      "bounce rate for 5: 0.123695596844\n"
     ]
    }
   ],
   "source": [
    "########################################################################\n",
    "\"\"\"             which page has the highest bounce?                   \"\"\"\n",
    "########################################################################\n",
    "for k, v in transitions.iteritems():\n",
    "    s, e = k\n",
    "    if e == 'B': # if end point is B\n",
    "        print \"bounce rate for %s: %s\" % (s, v)"
   ]
  },
  {
   "cell_type": "markdown",
   "metadata": {},
   "source": [
    "The page 9 also has the highest probability of bounce rate. "
   ]
  },
  {
   "cell_type": "code",
   "execution_count": 10,
   "metadata": {
    "collapsed": false
   },
   "outputs": [
    {
     "name": "stdout",
     "output_type": "stream",
     "text": [
      "bounce rate for 6: 0.122050648548\n",
      "bounce rate for 3: 0.121442835746\n",
      "bounce rate for 8: 0.128157272614\n",
      "bounce rate for 1: 0.126678989526\n",
      "bounce rate for 7: 0.122464312547\n",
      "bounce rate for 5: 0.127640621023\n",
      "bounce rate for 0: 0.120054401583\n",
      "bounce rate for 4: 0.126197884256\n",
      "bounce rate for 2: 0.123255234297\n",
      "bounce rate for 9: 0.120613201571\n"
     ]
    }
   ],
   "source": [
    "########################################################################\n",
    "\"\"\"             which page has the highest closing?                  \"\"\"\n",
    "########################################################################\n",
    "for k, v in transitions.iteritems():\n",
    "    s, e = k\n",
    "    if e == 'C': # if end point is closing\n",
    "        print \"bounce rate for %s: %s\" % (s, v)"
   ]
  },
  {
   "cell_type": "markdown",
   "metadata": {},
   "source": [
    "Since the page 8 has the highest probability of closing, we need to re-design page 8. (closing point is problem)"
   ]
  },
  {
   "cell_type": "markdown",
   "metadata": {},
   "source": [
    "### Reference\n",
    "https://github.com/lazyprogrammer/machine_learning_examples"
   ]
  }
 ],
 "metadata": {
  "anaconda-cloud": {},
  "kernelspec": {
   "display_name": "Python [conda root]",
   "language": "python",
   "name": "conda-root-py"
  },
  "language_info": {
   "codemirror_mode": {
    "name": "ipython",
    "version": 2
   },
   "file_extension": ".py",
   "mimetype": "text/x-python",
   "name": "python",
   "nbconvert_exporter": "python",
   "pygments_lexer": "ipython2",
   "version": "2.7.12"
  }
 },
 "nbformat": 4,
 "nbformat_minor": 1
}

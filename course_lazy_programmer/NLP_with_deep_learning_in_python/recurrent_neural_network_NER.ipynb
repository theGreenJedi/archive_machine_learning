{
 "cells": [
  {
   "cell_type": "code",
   "execution_count": 1,
   "metadata": {
    "collapsed": false,
    "scrolled": false
   },
   "outputs": [
    {
     "name": "stdout",
     "output_type": "stream",
     "text": [
      "number of samples: 691\n",
      "number of classes: 16\n",
      "i: 0 cost: 3599.79889613 correct rate: 0.236745293227 time for epoch: 0:00:03.831000\n",
      "i: 1 cost: 3298.94671025 correct rate: 0.245942436702 time for epoch: 0:00:03.652000\n",
      "i: 2 cost: 2937.21214912 correct rate: 0.245942436702 time for epoch: 0:00:03.581000\n",
      "i: 3 cost: 1866.46799326 correct rate: 0.224518502489 time for epoch: 0:00:03.687000\n",
      "i: 4 cost: 1240.6815826 correct rate: 0.227439948063 time for epoch: 0:00:03.856000\n",
      "i: 5 cost: 1131.77259275 correct rate: 0.236745293227 time for epoch: 0:00:03.701000\n",
      "i: 6 cost: 1066.95857711 correct rate: 0.234689461156 time for epoch: 0:00:03.992000\n",
      "i: 7 cost: 1013.13761968 correct rate: 0.245401428262 time for epoch: 0:00:03.562000\n",
      "i: 8 cost: 990.130577678 correct rate: 0.264444925341 time for epoch: 0:00:03.735000\n",
      "i: 9 cost: 992.342190839 correct rate: 0.257628219 time for epoch: 0:00:03.912000\n",
      "i: 10 cost: 974.937859325 correct rate: 0.267690975979 time for epoch: 0:00:03.791000\n",
      "i: 11 cost: 961.474259202 correct rate: 0.274615884008 time for epoch: 0:00:03.831000\n",
      "i: 12 cost: 952.497113696 correct rate: 0.288790305129 time for epoch: 0:00:03.795000\n",
      "i: 13 cost: 947.064182488 correct rate: 0.304263146505 time for epoch: 0:00:04.573000\n",
      "i: 14 cost: 927.613371022 correct rate: 0.296797230037 time for epoch: 0:00:05.079000\n",
      "i: 15 cost: 900.470128035 correct rate: 0.334776022506 time for epoch: 0:00:04.927000\n",
      "i: 16 cost: 879.984084403 correct rate: 0.338995888336 time for epoch: 0:00:03.886000\n",
      "i: 17 cost: 853.289751802 correct rate: 0.351222679074 time for epoch: 0:00:03.838000\n",
      "i: 18 cost: 829.961276647 correct rate: 0.376000865614 time for epoch: 0:00:03.868000\n",
      "i: 19 cost: 818.781678719 correct rate: 0.383250378706 time for epoch: 0:00:03.748000\n",
      "i: 20 cost: 802.652266801 correct rate: 0.405215321359 time for epoch: 0:00:03.827000\n",
      "i: 21 cost: 783.356230062 correct rate: 0.412464834451 time for epoch: 0:00:04.287000\n",
      "i: 22 cost: 773.810592851 correct rate: 0.427072062324 time for epoch: 0:00:03.894000\n",
      "i: 23 cost: 760.389461361 correct rate: 0.440164466566 time for epoch: 0:00:04.715000\n",
      "i: 24 cost: 734.951048019 correct rate: 0.4515256438 time for epoch: 0:00:03.769000\n",
      "i: 25 cost: 723.415061434 correct rate: 0.457909543389 time for epoch: 0:00:04.027000\n",
      "i: 26 cost: 705.237535865 correct rate: 0.46364423285 time for epoch: 0:00:04.500000\n",
      "i: 27 cost: 692.719090883 correct rate: 0.466998485176 time for epoch: 0:00:03.804000\n",
      "i: 28 cost: 685.501156727 correct rate: 0.480199091106 time for epoch: 0:00:04.312000\n",
      "i: 29 cost: 670.012585007 correct rate: 0.477494048907 time for epoch: 0:00:04.182000\n",
      "i: 30 cost: 656.239414818 correct rate: 0.489288032893 time for epoch: 0:00:03.785000\n",
      "i: 31 cost: 645.389962199 correct rate: 0.499675394936 time for epoch: 0:00:03.554000\n",
      "i: 32 cost: 630.483270462 correct rate: 0.520450119022 time for epoch: 0:00:04.054000\n",
      "i: 33 cost: 625.839518012 correct rate: 0.526725816923 time for epoch: 0:00:03.779000\n",
      "i: 34 cost: 623.854280281 correct rate: 0.51633845488 time for epoch: 0:00:03.697000\n",
      "i: 35 cost: 605.022677494 correct rate: 0.539601817788 time for epoch: 0:00:03.582000\n",
      "i: 36 cost: 598.294439346 correct rate: 0.532244103008 time for epoch: 0:00:03.854000\n",
      "i: 37 cost: 598.028236333 correct rate: 0.543605280242 time for epoch: 0:00:03.837000\n",
      "i: 38 cost: 599.123422033 correct rate: 0.532027699632 time for epoch: 0:00:03.755000\n",
      "i: 39 cost: 567.98840314 correct rate: 0.561458558754 time for epoch: 0:00:04.742000\n",
      "i: 40 cost: 572.424648213 correct rate: 0.565894827959 time for epoch: 0:00:04.329000\n",
      "i: 41 cost: 555.143764755 correct rate: 0.582016879463 time for epoch: 0:00:03.868000\n",
      "i: 42 cost: 551.094769455 correct rate: 0.581584072712 time for epoch: 0:00:03.643000\n",
      "i: 43 cost: 541.767231821 correct rate: 0.593810863449 time for epoch: 0:00:03.815000\n",
      "i: 44 cost: 535.502310237 correct rate: 0.593919065137 time for epoch: 0:00:03.936000\n",
      "i: 45 cost: 534.980684621 correct rate: 0.597597922528 time for epoch: 0:00:03.643000\n",
      "i: 46 cost: 529.891802615 correct rate: 0.593378056698 time for epoch: 0:00:03.851000\n",
      "i: 47 cost: 509.579120884 correct rate: 0.611339536897 time for epoch: 0:00:03.817000\n",
      "i: 48 cost: 524.021032963 correct rate: 0.598571737719 time for epoch: 0:00:03.757000\n",
      "i: 49 cost: 499.722526186 correct rate: 0.6122051504 time for epoch: 0:00:03.609000\n",
      "i: 50 cost: 496.899803169 correct rate: 0.622484310755 time for epoch: 0:00:03.914000\n",
      "i: 51 cost: 490.605701244 correct rate: 0.624972949578 time for epoch: 0:00:03.827000\n",
      "i: 52 cost: 474.807611236 correct rate: 0.632979874486 time for epoch: 0:00:03.545000\n",
      "i: 53 cost: 475.698811598 correct rate: 0.645206665224 time for epoch: 0:00:03.913000\n",
      "i: 54 cost: 483.452424953 correct rate: 0.63222246267 time for epoch: 0:00:03.888000\n",
      "i: 55 cost: 471.335774213 correct rate: 0.630166630599 time for epoch: 0:00:03.821000\n",
      "i: 56 cost: 466.84084306 correct rate: 0.643691841593 time for epoch: 0:00:03.718000\n",
      "i: 57 cost: 456.621804695 correct rate: 0.655594027267 time for epoch: 0:00:03.849000\n",
      "i: 58 cost: 448.651345306 correct rate: 0.653646396884 time for epoch: 0:00:03.877000\n",
      "i: 59 cost: 441.470690015 correct rate: 0.671391473707 time for epoch: 0:00:03.622000\n",
      "i: 60 cost: 429.117961298 correct rate: 0.678749188487 time for epoch: 0:00:03.949000\n",
      "i: 61 cost: 430.322675509 correct rate: 0.676585154728 time for epoch: 0:00:03.776000\n",
      "i: 62 cost: 424.866106483 correct rate: 0.683510062757 time for epoch: 0:00:03.622000\n",
      "i: 63 cost: 426.672830598 correct rate: 0.692057996105 time for epoch: 0:00:03.845000\n",
      "i: 64 cost: 405.140281732 correct rate: 0.703419173339 time for epoch: 0:00:03.875000\n",
      "i: 65 cost: 405.424530523 correct rate: 0.702878164899 time for epoch: 0:00:03.581000\n",
      "i: 66 cost: 399.285004376 correct rate: 0.701363341268 time for epoch: 0:00:03.712000\n",
      "i: 67 cost: 402.269317288 correct rate: 0.706340618914 time for epoch: 0:00:03.755000\n",
      "i: 68 cost: 393.522778093 correct rate: 0.708288249297 time for epoch: 0:00:03.534000\n",
      "i: 69 cost: 383.358753179 correct rate: 0.71391473707 time for epoch: 0:00:03.640000\n"
     ]
    },
    {
     "data": {
      "image/png": "[encoded data removed]",
      "text/plain": [
       "<matplotlib.figure.Figure at 0xc09d358>"
      ]
     },
     "metadata": {},
     "output_type": "display_data"
    },
    {
     "name": "stdout",
     "output_type": "stream",
     "text": [
      "train f1 score:"
     ]
    },
    {
     "name": "stderr",
     "output_type": "stream",
     "text": [
      "C:\\Users\\user\\Anaconda2\\lib\\site-packages\\sklearn\\metrics\\classification.py:1074: UndefinedMetricWarning: F-score is ill-defined and being set to 0.0 in labels with no predicted samples.\n",
      "  'precision', 'predicted', average, warn_for)\n"
     ]
    },
    {
     "name": "stdout",
     "output_type": "stream",
     "text": [
      " 0.436396549624\n",
      "test f1 score: 0.337100422272\n"
     ]
    }
   ],
   "source": [
    "# Course URL:\n",
    "# https://deeplearningcourses.com/c/natural-language-processing-with-deep-learning-in-python\n",
    "# https://udemy.com/natural-language-processing-with-deep-learning-in-python\n",
    "from ner_baseline import get_data\n",
    "from pos_rnn import RNN\n",
    "\n",
    "def main():\n",
    "    Xtrain, Ytrain, Xtest, Ytest, word2idx, tag2idx = get_data(split_sequences=True)\n",
    "    V = len(word2idx)\n",
    "    rnn = RNN(10, [10], V)\n",
    "    rnn.fit(Xtrain, Ytrain, epochs=70)\n",
    "    print \"train f1 score:\", rnn.f1_score(Xtrain, Ytrain)\n",
    "    print \"test f1 score:\", rnn.f1_score(Xtest, Ytest)\n",
    "    \n",
    "\n",
    "if __name__ == '__main__':\n",
    "    main()\n"
   ]
  },
  {
   "cell_type": "code",
   "execution_count": null,
   "metadata": {
    "collapsed": true
   },
   "outputs": [],
   "source": []
  }
 ],
 "metadata": {
  "anaconda-cloud": {},
  "kernelspec": {
   "display_name": "Python [conda root]",
   "language": "python",
   "name": "conda-root-py"
  },
  "language_info": {
   "codemirror_mode": {
    "name": "ipython",
    "version": 2
   },
   "file_extension": ".py",
   "mimetype": "text/x-python",
   "name": "python",
   "nbconvert_exporter": "python",
   "pygments_lexer": "ipython2",
   "version": "2.7.12"
  }
 },
 "nbformat": 4,
 "nbformat_minor": 1
}

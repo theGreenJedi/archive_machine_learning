{
 "cells": [
  {
   "cell_type": "code",
   "execution_count": 1,
   "metadata": {
    "collapsed": false,
    "scrolled": false
   },
   "outputs": [
    {
     "name": "stdout",
     "output_type": "stream",
     "text": [
      "number of samples: 2394\n",
      "number of classes: 21\n",
      "i: 0 cost: 5599.76416828 correct rate: 0.948539766118 time for epoch: 0:00:40.955000\n",
      "i: 1 cost: 1103.43538157 correct rate: 0.949580603686 time for epoch: 0:00:50.520000\n",
      "i: 2 cost: 1052.04595918 correct rate: 0.949580603686 time for epoch: 0:00:42.844000\n",
      "i: 3 cost: 980.534129416 correct rate: 0.949580603686 time for epoch: 0:00:32.017000\n",
      "i: 4 cost: 824.271678264 correct rate: 0.949580603686 time for epoch: 0:00:31.592000\n",
      "i: 5 cost: 704.781448124 correct rate: 0.949580603686 time for epoch: 0:00:31.689000\n",
      "i: 6 cost: 653.243306541 correct rate: 0.949580603686 time for epoch: 0:00:34.553000\n",
      "i: 7 cost: 626.721884474 correct rate: 0.949580603686 time for epoch: 0:00:32.072000\n",
      "i: 8 cost: 614.056808211 correct rate: 0.949580603686 time for epoch: 0:00:32.280000\n",
      "i: 9 cost: 602.229543126 correct rate: 0.949580603686 time for epoch: 0:00:32.422000\n",
      "i: 10 cost: 596.693169713 correct rate: 0.949580603686 time for epoch: 0:00:33.750000\n",
      "i: 11 cost: 591.528320681 correct rate: 0.949580603686 time for epoch: 0:00:32.141000\n",
      "i: 12 cost: 588.677917647 correct rate: 0.949580603686 time for epoch: 0:00:34.506000\n",
      "i: 13 cost: 586.851392924 correct rate: 0.949580603686 time for epoch: 0:00:40.193000\n",
      "i: 14 cost: 584.57288131 correct rate: 0.949580603686 time for epoch: 0:00:44.607000\n",
      "i: 15 cost: 582.186843342 correct rate: 0.949580603686 time for epoch: 0:00:32.631000\n",
      "i: 16 cost: 583.848807982 correct rate: 0.949580603686 time for epoch: 0:00:35.473000\n",
      "i: 17 cost: 578.844699135 correct rate: 0.949580603686 time for epoch: 0:00:40.753000\n",
      "i: 18 cost: 577.41714054 correct rate: 0.949580603686 time for epoch: 0:00:34.880000\n",
      "i: 19 cost: 571.930239016 correct rate: 0.949580603686 time for epoch: 0:00:35.346000\n",
      "i: 20 cost: 572.967980972 correct rate: 0.949580603686 time for epoch: 0:00:41.798000\n",
      "i: 21 cost: 569.744570998 correct rate: 0.949580603686 time for epoch: 0:00:35.700000\n",
      "i: 22 cost: 570.67070941 correct rate: 0.949580603686 time for epoch: 0:00:35.331000\n",
      "i: 23 cost: 566.693513525 correct rate: 0.949580603686 time for epoch: 0:00:37.100000\n",
      "i: 24 cost: 563.782061394 correct rate: 0.949580603686 time for epoch: 0:00:31.802000\n",
      "i: 25 cost: 555.691689364 correct rate: 0.949580603686 time for epoch: 0:00:33.713000\n",
      "i: 26 cost: 552.482195395 correct rate: 0.949580603686 time for epoch: 0:00:31.679000\n",
      "i: 27 cost: 545.805359199 correct rate: 0.949580603686 time for epoch: 0:00:32.294000\n",
      "i: 28 cost: 544.187672266 correct rate: 0.949580603686 time for epoch: 0:00:31.746000\n",
      "i: 29 cost: 536.784984469 correct rate: 0.949580603686 time for epoch: 0:00:30.861000\n",
      "i: 30 cost: 535.211262502 correct rate: 0.949580603686 time for epoch: 0:00:31.871000\n",
      "i: 31 cost: 524.976998197 correct rate: 0.949549990816 time for epoch: 0:00:31.434000\n",
      "i: 32 cost: 514.539352587 correct rate: 0.949580603686 time for epoch: 0:00:31.410000\n",
      "i: 33 cost: 509.103116879 correct rate: 0.949611216555 time for epoch: 0:00:31.803000\n",
      "i: 34 cost: 499.269995044 correct rate: 0.949641829425 time for epoch: 0:00:32.135000\n",
      "i: 35 cost: 488.096848242 correct rate: 0.949764280904 time for epoch: 0:00:31.731000\n",
      "i: 36 cost: 477.099940686 correct rate: 0.949947958122 time for epoch: 0:00:31.660000\n",
      "i: 37 cost: 462.36446927 correct rate: 0.949978570991 time for epoch: 0:00:35.257000\n",
      "i: 38 cost: 452.3867796 correct rate: 0.950437764036 time for epoch: 0:00:33.450000\n",
      "i: 39 cost: 437.561536337 correct rate: 0.9500704096 time for epoch: 0:00:32.458000\n",
      "i: 40 cost: 420.676427 correct rate: 0.950713279863 time for epoch: 0:00:38.286000\n",
      "i: 41 cost: 406.651329078 correct rate: 0.951141860038 time for epoch: 0:00:35.402000\n",
      "i: 42 cost: 384.927884046 correct rate: 0.951356150126 time for epoch: 0:00:35.753000\n",
      "i: 43 cost: 367.691467686 correct rate: 0.951968407519 time for epoch: 0:00:32.131000\n",
      "i: 44 cost: 358.125598249 correct rate: 0.952886793608 time for epoch: 0:00:34.585000\n",
      "i: 45 cost: 347.512135415 correct rate: 0.95267250352 time for epoch: 0:00:33.751000\n",
      "i: 46 cost: 332.336181961 correct rate: 0.953743953958 time for epoch: 0:00:31.943000\n",
      "i: 47 cost: 324.335723612 correct rate: 0.954356211351 time for epoch: 0:00:31.696000\n",
      "i: 48 cost: 309.717247198 correct rate: 0.955060307353 time for epoch: 0:00:31.731000\n",
      "i: 49 cost: 302.253477546 correct rate: 0.955243984571 time for epoch: 0:00:31.867000\n",
      "i: 50 cost: 288.994394042 correct rate: 0.956101144921 time for epoch: 0:00:31.359000\n",
      "i: 51 cost: 282.340513329 correct rate: 0.956407273618 time for epoch: 0:00:36.448000\n",
      "i: 52 cost: 273.836453135 correct rate: 0.95705014388 time for epoch: 0:00:32.164000\n",
      "i: 53 cost: 272.441582297 correct rate: 0.958458335884 time for epoch: 0:00:31.549000\n",
      "i: 54 cost: 268.772400145 correct rate: 0.958672625972 time for epoch: 0:00:31.756000\n",
      "i: 55 cost: 262.743515106 correct rate: 0.959039980408 time for epoch: 0:00:31.618000\n",
      "i: 56 cost: 255.677018694 correct rate: 0.959009367538 time for epoch: 0:00:31.715000\n",
      "i: 57 cost: 255.171577831 correct rate: 0.959499173453 time for epoch: 0:00:32.623000\n",
      "i: 58 cost: 254.934790284 correct rate: 0.959529786322 time for epoch: 0:00:31.583000\n",
      "i: 59 cost: 253.214105865 correct rate: 0.960142043715 time for epoch: 0:00:31.713000\n",
      "i: 60 cost: 247.243984154 correct rate: 0.960111430846 time for epoch: 0:00:31.157000\n",
      "i: 61 cost: 243.78683232 correct rate: 0.960325720933 time for epoch: 0:00:31.155000\n",
      "i: 62 cost: 239.182527219 correct rate: 0.961856364416 time for epoch: 0:00:31.113000\n",
      "i: 63 cost: 237.750906549 correct rate: 0.961550235719 time for epoch: 0:00:30.970000\n",
      "i: 64 cost: 234.777808737 correct rate: 0.962040041634 time for epoch: 0:00:31.008000\n",
      "i: 65 cost: 234.943457985 correct rate: 0.961917590155 time for epoch: 0:00:31.986000\n",
      "i: 66 cost: 233.733991998 correct rate: 0.962193105982 time for epoch: 0:00:31.342000\n",
      "i: 67 cost: 233.952520408 correct rate: 0.962284944591 time for epoch: 0:00:31.513000\n",
      "i: 68 cost: 231.490181353 correct rate: 0.962897201984 time for epoch: 0:00:31.340000\n",
      "i: 69 cost: 229.158090308 correct rate: 0.963172717811 time for epoch: 0:00:31.600000\n"
     ]
    },
    {
     "data": {
      "image/png": "[encoded data removed]",
      "text/plain": [
       "<matplotlib.figure.Figure at 0x10eb1128>"
      ]
     },
     "metadata": {},
     "output_type": "display_data"
    },
    {
     "name": "stdout",
     "output_type": "stream",
     "text": [
      "train f1 score:"
     ]
    },
    {
     "name": "stderr",
     "output_type": "stream",
     "text": [
      "C:\\Users\\user\\Anaconda2\\lib\\site-packages\\sklearn\\metrics\\classification.py:1074: UndefinedMetricWarning: F-score is ill-defined and being set to 0.0 in labels with no predicted samples.\n",
      "  'precision', 'predicted', average, warn_for)\n"
     ]
    },
    {
     "name": "stdout",
     "output_type": "stream",
     "text": [
      " 0.157736387711\n",
      "test f1 score: 0.0957178758825\n"
     ]
    }
   ],
   "source": [
    "# Course URL:\n",
    "# https://deeplearningcourses.com/c/natural-language-processing-with-deep-learning-in-python\n",
    "# https://udemy.com/natural-language-processing-with-deep-learning-in-python\n",
    "from ner_baseline import get_data\n",
    "from pos_rnn import RNN\n",
    "\n",
    "def main():\n",
    "    Xtrain, Ytrain, Xtest, Ytest, word2idx, tag2idx = get_data(split_sequences=True)\n",
    "    V = len(word2idx)\n",
    "    rnn = RNN(10, [10], V)\n",
    "    rnn.fit(Xtrain, Ytrain, epochs=70)\n",
    "    print \"train f1 score:\", rnn.f1_score(Xtrain, Ytrain)\n",
    "    print \"test f1 score:\", rnn.f1_score(Xtest, Ytest)\n",
    "    \n",
    "\n",
    "if __name__ == '__main__':\n",
    "    main()\n"
   ]
  },
  {
   "cell_type": "code",
   "execution_count": null,
   "metadata": {
    "collapsed": true
   },
   "outputs": [],
   "source": []
  }
 ],
 "metadata": {
  "anaconda-cloud": {},
  "kernelspec": {
   "display_name": "Python [conda root]",
   "language": "python",
   "name": "conda-root-py"
  },
  "language_info": {
   "codemirror_mode": {
    "name": "ipython",
    "version": 2
   },
   "file_extension": ".py",
   "mimetype": "text/x-python",
   "name": "python",
   "nbconvert_exporter": "python",
   "pygments_lexer": "ipython2",
   "version": "2.7.12"
  }
 },
 "nbformat": 4,
 "nbformat_minor": 1
}

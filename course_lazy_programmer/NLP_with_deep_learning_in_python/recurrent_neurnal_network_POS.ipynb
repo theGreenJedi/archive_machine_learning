{
 "cells": [
  {
   "cell_type": "code",
   "execution_count": 1,
   "metadata": {
    "collapsed": false
   },
   "outputs": [],
   "source": [
    "# Course URL:\n",
    "# https://deeplearningcourses.com/c/natural-language-processing-with-deep-learning-in-python\n",
    "# https://udemy.com/natural-language-processing-with-deep-learning-in-python\n",
    "import numpy as np\n",
    "import matplotlib.pyplot as plt\n",
    "import theano\n",
    "import theano.tensor as T\n",
    "import os\n",
    "import sys\n",
    "#sys.path.insert(0, 'C:\\\\Users\\\\user\\\\Documents\\\\GitHub\\\\deep_learning_archieves\\\\modules')\n",
    "from modules import get_data\n",
    "from gru import GRU\n",
    "from util import init_weight\n",
    "\n",
    "from sklearn.utils import shuffle\n",
    "from datetime import datetime\n",
    "from sklearn.metrics import f1_score"
   ]
  },
  {
   "cell_type": "code",
   "execution_count": 2,
   "metadata": {
    "collapsed": false
   },
   "outputs": [],
   "source": [
    "class RNN:\n",
    "    def __init__(self, D, hidden_layer_sizes, V):\n",
    "        self.hidden_layer_sizes = hidden_layer_sizes\n",
    "        self.D = D\n",
    "        self.V = V\n",
    "\n",
    "    def fit(self, X, Y, learning_rate=10e-5, mu=0.99, epochs=30, show_fig=True, activation=T.nnet.relu, RecurrentUnit=GRU, normalize=False):\n",
    "        D = self.D\n",
    "        V = self.V\n",
    "        N = len(X)\n",
    "\n",
    "        We = init_weight(V, D)\n",
    "        self.hidden_layers = []\n",
    "        Mi = D\n",
    "        for Mo in self.hidden_layer_sizes:\n",
    "            ru = RecurrentUnit(Mi, Mo, activation)\n",
    "            self.hidden_layers.append(ru)\n",
    "            Mi = Mo\n",
    "\n",
    "        Wo = init_weight(Mi, V)\n",
    "        bo = np.zeros(V)\n",
    "\n",
    "        self.We = theano.shared(We)\n",
    "        self.Wo = theano.shared(Wo)\n",
    "        self.bo = theano.shared(bo)\n",
    "        self.params = [self.Wo, self.bo]\n",
    "        for ru in self.hidden_layers:\n",
    "            self.params += ru.params\n",
    "\n",
    "        thX = T.ivector('X')\n",
    "        thY = T.ivector('Y')\n",
    "\n",
    "        Z = self.We[thX]\n",
    "        for ru in self.hidden_layers:\n",
    "            Z = ru.output(Z)\n",
    "        py_x = T.nnet.softmax(Z.dot(self.Wo) + self.bo)\n",
    "\n",
    "        prediction = T.argmax(py_x, axis=1)\n",
    "        \n",
    "        cost = -T.mean(T.log(py_x[T.arange(thY.shape[0]), thY]))\n",
    "        grads = T.grad(cost, self.params)\n",
    "        dparams = [theano.shared(p.get_value()*0) for p in self.params]\n",
    "\n",
    "        dWe = theano.shared(self.We.get_value()*0)\n",
    "        gWe = T.grad(cost, self.We)\n",
    "        dWe_update = mu*dWe - learning_rate*gWe\n",
    "        We_update = self.We + dWe_update\n",
    "        if normalize:\n",
    "            We_update /= We_update.norm(2)\n",
    "\n",
    "        updates = [\n",
    "            (p, p + mu*dp - learning_rate*g) for p, dp, g in zip(self.params, dparams, grads)\n",
    "        ] + [\n",
    "            (dp, mu*dp - learning_rate*g) for dp, g in zip(dparams, grads)\n",
    "        ] + [\n",
    "            (self.We, We_update), (dWe, dWe_update)\n",
    "        ]\n",
    "\n",
    "        self.cost_predict_op = theano.function(\n",
    "            inputs=[thX, thY],\n",
    "            outputs=[cost, prediction],\n",
    "            allow_input_downcast=True,\n",
    "        )\n",
    "\n",
    "        self.train_op = theano.function(\n",
    "            inputs=[thX, thY],\n",
    "            outputs=[cost, prediction],\n",
    "            updates=updates\n",
    "        )\n",
    "\n",
    "        costs = []\n",
    "        sequence_indexes = range(N)\n",
    "        n_total = sum(len(y) for y in Y)\n",
    "        for i in xrange(epochs):\n",
    "            t0 = datetime.now()\n",
    "            sequence_indexes = shuffle(sequence_indexes)\n",
    "            n_correct = 0\n",
    "            cost = 0\n",
    "            it = 0\n",
    "            for j in sequence_indexes:\n",
    "                c, p = self.train_op(X[j], Y[j])\n",
    "                cost += c\n",
    "                n_correct += np.sum(p == Y[j])\n",
    "                it += 1\n",
    "                if it % 200 == 0:\n",
    "                    sys.stdout.write(\"j/N: %d/%d correct rate so far: %f, cost so far: %f\\r\" % (it, N, float(n_correct)/n_total, cost))\n",
    "                    sys.stdout.flush()\n",
    "            print \"i:\", i, \"cost:\", cost, \"correct rate:\", (float(n_correct)/n_total), \"time for epoch:\", (datetime.now() - t0)\n",
    "            costs.append(cost)\n",
    "\n",
    "        if show_fig:\n",
    "            plt.plot(costs)\n",
    "            plt.show()\n",
    "\n",
    "    def score(self, X, Y):\n",
    "        n_total = sum(len(y) for y in Y)\n",
    "        n_correct = 0\n",
    "        for x, y in zip(X, Y):\n",
    "            _, p = self.cost_predict_op(x, y)\n",
    "            n_correct += np.sum(p == y)\n",
    "        return float(n_correct) / n_total\n",
    "\n",
    "    def f1_score(self, X, Y):\n",
    "        P = []\n",
    "        for x, y in zip(X, Y):\n",
    "            _, p = self.cost_predict_op(x, y)\n",
    "            P.append(p)\n",
    "        Y = np.concatenate(Y)\n",
    "        P = np.concatenate(P)\n",
    "        return f1_score(Y, P, average=None).mean()\n",
    "\n",
    "def main():\n",
    "    Xtrain, Ytrain, Xtest, Ytest, word2idx = get_data(split_sequences=True)\n",
    "    V = len(word2idx) + 1 # + unknown token\n",
    "    rnn = RNN(10, [10], V)\n",
    "    rnn.fit(Xtrain, Ytrain)\n",
    "    print \"train score:\", rnn.score(Xtrain, Ytrain)\n",
    "    print \"test score:\", rnn.score(Xtest, Ytest)\n",
    "    print \"train f1:\", rnn.f1_score(Xtrain, Ytrain)\n",
    "    print \"test f1:\", rnn.f1_score(Xtest, Ytest)\n",
    "    \n",
    "\n",
    "# if __name__ == '__main__':\n",
    "#     main()"
   ]
  },
  {
   "cell_type": "code",
   "execution_count": 3,
   "metadata": {
    "collapsed": false
   },
   "outputs": [
    {
     "name": "stdout",
     "output_type": "stream",
     "text": [
      "i: 0 cost: 43262.9824593 correct rate: 0.151152191265 time for epoch: 0:06:40.107000\n",
      "i: 1 cost: 18285.5376376 correct rate: 0.411090696982 time for epoch: 0:06:40.514000\n",
      "i: 2 cost: 13578.6717266 correct rate: 0.542557160872 time for epoch: 0:07:14.726000\n",
      "i: 3 cost: 10777.2947524 correct rate: 0.645708860939 time for epoch: 0:07:37.202000\n",
      "i: 4 cost: 8503.90095318 correct rate: 0.73422378818 time for epoch: 0:06:30.614000\n",
      "i: 5 cost: 6284.28159744 correct rate: 0.817448884649 time for epoch: 0:07:21.005000\n",
      "i: 6 cost: 4983.48943827 correct rate: 0.859824207588 time for epoch: 0:07:12.464000\n",
      "i: 7 cost: 4010.59640961 correct rate: 0.889451982978 time for epoch: 0:06:20.438000\n",
      "i: 8 cost: 3390.26502488 correct rate: 0.907838867976 time for epoch: 0:06:16.016000\n",
      "i: 9 cost: 2907.39133612 correct rate: 0.921068167971 time for epoch: 0:06:15.338000\n",
      "i: 10 cost: 2571.9704749 correct rate: 0.931081061934 time for epoch: 0:06:14.337000\n",
      "i: 11 cost: 2284.49896604 correct rate: 0.939176392241 time for epoch: 0:06:14.483000\n",
      "i: 12 cost: 2050.62141795 correct rate: 0.946346002163 time for epoch: 0:06:13.756000\n",
      "i: 13 cost: 1865.00083009 correct rate: 0.951673617441 time for epoch: 0:06:12\n",
      "i: 14 cost: 1719.87746801 correct rate: 0.955900758996 time for epoch: 0:06:15.319000\n",
      "i: 15 cost: 1598.62254654 correct rate: 0.958781827542 time for epoch: 0:06:41.845000\n",
      "i: 16 cost: 1505.79504966 correct rate: 0.961700680593 time for epoch: 0:06:58.155000\n",
      "i: 17 cost: 1413.53349438 correct rate: 0.964166119579 time for epoch: 0:06:29.653000\n",
      "i: 18 cost: 1319.45930164 correct rate: 0.966749635143 time for epoch: 0:06:11.451000\n",
      "i: 19 cost: 1257.43310981 correct rate: 0.968336584375 time for epoch: 0:06:16.881000\n",
      "i: 20 cost: 1220.7314191 correct rate: 0.969078105296 time for epoch: 0:06:27.567000\n",
      "i: 21 cost: 1167.61630979 correct rate: 0.970055779376 time for epoch: 0:06:36.341000\n",
      "i: 22 cost: 1098.02389216 correct rate: 0.97179386663 time for epoch: 0:06:44.621000\n",
      "i: 23 cost: 1063.65594167 correct rate: 0.972554279804 time for epoch: 0:06:46.898000\n",
      "i: 24 cost: 1037.02014038 correct rate: 0.973253293156 time for epoch: 0:06:45.527000\n",
      "i: 25 cost: 988.219602113 correct rate: 0.973664199653 time for epoch: 0:06:32.550000\n",
      "i: 26 cost: 949.95978984 correct rate: 0.975048057168 time for epoch: 0:06:40.505000\n",
      "i: 27 cost: 933.353821183 correct rate: 0.975232256632 time for epoch: 0:06:43.266000\n",
      "i: 28 cost: 904.82782786 correct rate: 0.975860424037 time for epoch: 0:06:29.956000\n",
      "i: 29 cost: 889.272435213 correct rate: 0.975492025108 time for epoch: 0:06:25.125000\n"
     ]
    },
    {
     "data": {
      "image/png": "[encoded data removed]",
      "text/plain": [
       "<matplotlib.figure.Figure at 0xb5e1048>"
      ]
     },
     "metadata": {},
     "output_type": "display_data"
    },
    {
     "name": "stdout",
     "output_type": "stream",
     "text": [
      "train score: 0.974807180945\n",
      "test score: 0.920024484454\n",
      "train f1:"
     ]
    },
    {
     "name": "stderr",
     "output_type": "stream",
     "text": [
      "C:\\Users\\user\\Anaconda2\\lib\\site-packages\\sklearn\\metrics\\classification.py:1074: UndefinedMetricWarning: F-score is ill-defined and being set to 0.0 in labels with no predicted samples.\n",
      "  'precision', 'predicted', average, warn_for)\n"
     ]
    },
    {
     "name": "stdout",
     "output_type": "stream",
     "text": [
      " 0.8000461419\n",
      "test f1: 0.787946160339\n"
     ]
    }
   ],
   "source": [
    "main()"
   ]
  },
  {
   "cell_type": "code",
   "execution_count": null,
   "metadata": {
    "collapsed": true
   },
   "outputs": [],
   "source": []
  }
 ],
 "metadata": {
  "anaconda-cloud": {},
  "kernelspec": {
   "display_name": "Python [conda root]",
   "language": "python",
   "name": "conda-root-py"
  },
  "language_info": {
   "codemirror_mode": {
    "name": "ipython",
    "version": 2
   },
   "file_extension": ".py",
   "mimetype": "text/x-python",
   "name": "python",
   "nbconvert_exporter": "python",
   "pygments_lexer": "ipython2",
   "version": "2.7.12"
  }
 },
 "nbformat": 4,
 "nbformat_minor": 1
}
